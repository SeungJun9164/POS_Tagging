{
 "cells": [
  {
   "cell_type": "markdown",
   "metadata": {
    "id": "Au5VZ-exr2dj"
   },
   "source": [
    "https://colab.research.google.com/github/bentrevett/pytorch-pos-tagging/blob/master/2%20-%20Fine-tuning%20Pretrained%20Transformers%20for%20PoS%20Tagging.ipynb#scrollTo=WIOmo6FYXU_4\n",
    "\n",
    "https://github.com/bentrevett/pytorch-pos-tagging/blob/master/2%20-%20Fine-tuning%20Pretrained%20Transformers%20for%20PoS%20Tagging.ipynb"
   ]
  },
  {
   "cell_type": "code",
   "execution_count": null,
   "metadata": {
    "colab": {
     "base_uri": "https://localhost:8080/"
    },
    "id": "BEeMDJTHr81Y",
    "outputId": "59d4cfca-9e7a-4ef5-b11b-8c6b05445c3c"
   },
   "outputs": [],
   "source": [
    "!pip install transformers"
   ]
  },
  {
   "cell_type": "code",
   "execution_count": null,
   "metadata": {
    "id": "qNuFqNVFr2dl"
   },
   "outputs": [],
   "source": [
    "import torch\n",
    "import torch.nn as nn\n",
    "import torch.nn.functional as F\n",
    "import torch.optim as optim\n",
    "\n",
    "from torchtext import data\n",
    "from torchtext import datasets\n",
    "\n",
    "from transformers import BertTokenizer, BertModel\n",
    "\n",
    "import numpy as np\n",
    "\n",
    "import time\n",
    "import random\n",
    "import functools"
   ]
  },
  {
   "cell_type": "code",
   "execution_count": null,
   "metadata": {
    "id": "WmbUQNpWr2dl"
   },
   "outputs": [],
   "source": [
    "SEED = 1234\n",
    "\n",
    "random.seed(SEED)\n",
    "np.random.seed(SEED)\n",
    "torch.manual_seed(SEED)\n",
    "torch.backends.cudnn.deterministic = True"
   ]
  },
  {
   "cell_type": "code",
   "execution_count": null,
   "metadata": {
    "colab": {
     "base_uri": "https://localhost:8080/",
     "height": 66,
     "referenced_widgets": [
      "5e35c1a3a0f94f3b8747638bf0467c1f",
      "a0f49b0c5dd649ae9f27b8f5e0c05071",
      "46ff5da58d464f0aaf42880e7f1185a4",
      "c8578292b26143f2bc1e4cfe137e4a0d",
      "a8f5be6c7c334fbcb1181fe15e59c7bb",
      "88b3bfceb28a458487d2c917940c05c9",
      "ccb82404d4104839ab6bf982a52c1e15",
      "dd479dbbceda47068a999c5506baaaea"
     ]
    },
    "id": "w_hmCgIfr2dm",
    "outputId": "dac23c98-f865-4a18-b180-e06b4edcc684"
   },
   "outputs": [],
   "source": [
    "tokenizer = BertTokenizer.from_pretrained('bert-base-uncased')"
   ]
  },
  {
   "cell_type": "code",
   "execution_count": null,
   "metadata": {
    "colab": {
     "base_uri": "https://localhost:8080/"
    },
    "id": "eMYmqFkYr2dm",
    "outputId": "55120109-393a-49f2-effd-82bfa15f158c"
   },
   "outputs": [],
   "source": [
    "init_token = tokenizer.cls_token\n",
    "pad_token = tokenizer.pad_token\n",
    "unk_token = tokenizer.unk_token\n",
    "\n",
    "print(init_token, pad_token, unk_token)"
   ]
  },
  {
   "cell_type": "code",
   "execution_count": null,
   "metadata": {
    "colab": {
     "base_uri": "https://localhost:8080/"
    },
    "id": "i67Q4qmfr2dm",
    "outputId": "eed768d6-ea47-413f-8522-1b44400b7e66"
   },
   "outputs": [],
   "source": [
    "init_token_idx = tokenizer.convert_tokens_to_ids(init_token)\n",
    "pad_token_idx = tokenizer.convert_tokens_to_ids(pad_token)\n",
    "unk_token_idx = tokenizer.convert_tokens_to_ids(unk_token)\n",
    "\n",
    "print(init_token_idx, pad_token_idx, unk_token_idx)"
   ]
  },
  {
   "cell_type": "markdown",
   "metadata": {
    "id": "7SYX0k4qwZhs"
   },
   "source": [
    "pretrain_model이 최대 길이까지 시퀀스에 대해 학습되었으며 시퀀스도 이 길이로 잘리는 지 확인해야 한다."
   ]
  },
  {
   "cell_type": "code",
   "execution_count": null,
   "metadata": {
    "colab": {
     "base_uri": "https://localhost:8080/"
    },
    "id": "d8swJpUKr2dn",
    "outputId": "fdb5d4ae-c86f-4ee0-c7e0-56ae6e74819f"
   },
   "outputs": [],
   "source": [
    "max_input_length = tokenizer.max_model_input_sizes['bert-base-uncased']\n",
    "print(max_input_length)"
   ]
  },
  {
   "cell_type": "markdown",
   "metadata": {
    "id": "95mWn8Mc0RFs"
   },
   "source": [
    "첫 번째는 사전 훈련 된 모델에 지정된 원하는 최대 길이로 토큰 시퀀스를 자른 다음 어휘를 통해 토큰을 전달하여 토큰을 인덱스로 변환합니다. 이것은 태그를 지정하려는 입력 시퀀스에 사용할 것입니다.\n",
    "\n",
    "실제로 토큰을 max_input_length-1로 자릅니다. 이는 시퀀스의 시작 부분에 특수 [CLS] 토큰을 추가해야하기 때문입니다."
   ]
  },
  {
   "cell_type": "code",
   "execution_count": null,
   "metadata": {
    "id": "5q7pBzUPr2dn"
   },
   "outputs": [],
   "source": [
    "# 토큰의 길이가 최대 512 - 1 을 넘지안도록 자른 후 인코딩화 (맨 처음에 [CLS]를 추가하기 위해 - 1)\n",
    "def cut_and_convert_to_id(tokens, tokenizer, max_input_length):\n",
    "    tokens = tokens[:max_input_length-1]\n",
    "    tokens = tokenizer.convert_tokens_to_ids(tokens)\n",
    "    return tokens"
   ]
  },
  {
   "cell_type": "code",
   "execution_count": null,
   "metadata": {
    "colab": {
     "base_uri": "https://localhost:8080/"
    },
    "id": "9Qjq81a-xhe0",
    "outputId": "7694bdb5-ee03-49d0-bb68-3fe62aeaf830"
   },
   "outputs": [],
   "source": [
    "test_token = 'this'\n",
    "\n",
    "test = cut_and_convert_to_id(test_token, tokenizer, max_input_length)\n",
    "print(test)"
   ]
  },
  {
   "cell_type": "markdown",
   "metadata": {
    "id": "bO5MECjY2R3b"
   },
   "source": [
    "두 번째는 단순히 시퀀스를 최대 길이로 자릅니다. 이것은 우리의 태그에 사용됩니다. 어휘는 품사 태그가 아닌 영어문장 용으로만 작성되었으므로 사전 훈련 된 모델의 어휘를 통해 태그를 전달하지 않습니다. 우리 스스로 태그 어휘를 구축 할 것입니다."
   ]
  },
  {
   "cell_type": "code",
   "execution_count": null,
   "metadata": {
    "id": "mkGE8IgEr2dn"
   },
   "outputs": [],
   "source": [
    "def cut_to_max_length(tokens, max_input_length):\n",
    "    tokens = tokens[:max_input_length-1]\n",
    "    return tokens"
   ]
  },
  {
   "cell_type": "code",
   "execution_count": null,
   "metadata": {
    "colab": {
     "base_uri": "https://localhost:8080/"
    },
    "id": "gz9lO95H1tWU",
    "outputId": "efd4cdb1-d04c-4285-c14f-4a774a5233c3"
   },
   "outputs": [],
   "source": [
    "test_token = 'this'\n",
    "\n",
    "test = cut_to_max_length(test_token, max_input_length)\n",
    "print(test)"
   ]
  },
  {
   "cell_type": "code",
   "execution_count": null,
   "metadata": {
    "id": "MwgE9pder2dn"
   },
   "outputs": [],
   "source": [
    "# functools.partial : 기존 파이썬 함수를 재사용하여 일부 위치 매개변수 또는 키워드 매개변수를 고정한(freezed, fixec) 상태에서, 원래의 함수처럼 작동하는 새로운 부분 객체(partial object)를 반환\n",
    "\n",
    "text_preprocessor = functools.partial(cut_and_convert_to_id,\n",
    "                                      tokenizer = tokenizer,\n",
    "                                      max_input_length = max_input_length)\n",
    "\n",
    "tag_preprocessor = functools.partial(cut_to_max_length,\n",
    "                                     max_input_length = max_input_length)"
   ]
  },
  {
   "cell_type": "code",
   "execution_count": null,
   "metadata": {
    "id": "0UBS6gujr2dn"
   },
   "outputs": [],
   "source": [
    "TEXT = data.Field(use_vocab = False, \n",
    "                  lower = True,\n",
    "                  preprocessing = text_preprocessor,\n",
    "                  init_token = init_token_idx,\n",
    "                  pad_token = pad_token_idx,\n",
    "                  unk_token = unk_token_idx)\n",
    "\n",
    "UD_TAGS = data.Field(unk_token = None,\n",
    "                     init_token = '<pad>',\n",
    "                     preprocessing = tag_preprocessor)"
   ]
  },
  {
   "cell_type": "code",
   "execution_count": null,
   "metadata": {
    "id": "_xSFvvSur2do"
   },
   "outputs": [],
   "source": [
    "fields = ((\"text\", TEXT), (\"udtags\", UD_TAGS))"
   ]
  },
  {
   "cell_type": "code",
   "execution_count": null,
   "metadata": {
    "colab": {
     "base_uri": "https://localhost:8080/"
    },
    "id": "GK_2rREar2do",
    "outputId": "d5f04dd3-20af-45ed-e6fe-82a345ab725a"
   },
   "outputs": [],
   "source": [
    "train_data, valid_data, test_data = datasets.UDPOS.splits(fields)"
   ]
  },
  {
   "cell_type": "code",
   "execution_count": null,
   "metadata": {
    "colab": {
     "base_uri": "https://localhost:8080/"
    },
    "id": "RKzt_nAMK4Sk",
    "outputId": "2f433496-3ed2-47cd-a760-cebcdae8d77f"
   },
   "outputs": [],
   "source": [
    "example_index = 0\n",
    "\n",
    "sentence = vars(train_data.examples[example_index])['text']\n",
    "actual_tags = vars(train_data.examples[example_index])['udtags']\n",
    "\n",
    "print(sentence)\n",
    "# al - zaman : american forces killed shaikh abdullah al - ani , the preacher at the mosque in the town of qaim , near the syrian border .\n",
    "print(' '.join(tokenizer.convert_ids_to_tokens(sentence)))\n",
    "print(actual_tags)"
   ]
  },
  {
   "cell_type": "markdown",
   "metadata": {
    "id": "vq6PYdUIOJ7T"
   },
   "source": [
    "PROPN : proper noun(고유명사) \\\n",
    "PUNCT : punctuation(구두점) \\\n",
    "DET : determiner(한정사) \\\n",
    "NOUN : noun(명사) \\\n",
    "ADP : adposition(전치사와 후치사를 포함하는 용어) \\\n",
    "ADJ : adjective(형용사) \\\n",
    "AUX : auxiliary(조동사) \\\n",
    "VERB : verb(동사) \\\n",
    "PRON : pronoun(대명사) \\\n",
    "PART : particle(의미를 부여하기 위해 다른 단어와 연관되어야하며 다른 보편적인 품사의 정의를 충족하지 않는 기능어)"
   ]
  },
  {
   "cell_type": "code",
   "execution_count": null,
   "metadata": {
    "colab": {
     "base_uri": "https://localhost:8080/"
    },
    "id": "zCZjvlPNr2do",
    "outputId": "2598e795-dfcd-43d2-accf-99dec090560d"
   },
   "outputs": [],
   "source": [
    "UD_TAGS.build_vocab(train_data)\n",
    "print(UD_TAGS.vocab.stoi)"
   ]
  },
  {
   "cell_type": "markdown",
   "metadata": {
    "id": "ZLZ86OyIPGW6"
   },
   "source": [
    "![UPOS.PNG](data:image/png;base64,iVBORw0KGgoAAAANSUhEUgAAAsUAAAHHCAYAAABX6yWOAAAAAXNSR0IArs4c6QAAAARnQU1BAACxjwv8YQUAAAAJcEhZcwAAHYcAAB2HAY/l8WUAAF6ISURBVHhe7d1BaBztfud7LbI4iyzexSyakEUEXsTwLiyYhRTOxoJ3YZGzOCJaHBFzI8QbMMIwRniI0TVDPMIDPsKH+Ij3gukriImUxEHOxTcyBxP5EkykO5iRL8eDTGJGYo4zIw7OdEtqSa3Xsvnf56l+uruquqq6Wqp63K3n+4EHW63uVnc/Vf/nV9VPVfUJAAAA4DhCMQAAAJxHKAYAAIDzCMUAAABwHqEYAAAAziMUAwAAwHmEYgAAADiPUAwAAADnEYoBAADgPEIxAAAAnEcoBgAAgPMIxQAAAHAeoRgAAADOIxQDAADAeYRiAAAAOI9QDAAAAOcRigEAAOA8QjEAAACcRygGAACA8wjFAAAAcB6hGAAAAM4jFAMAAMB5hGIAAAA4j1AMAAAA5xGKAQAA4DxCMQAAAJxHKAYAAIDzcg3Fb968odFoNBqNRqPRztRsIBTTaDQajUaj0bq62WAlFAMA9QBAVqgn7rDZ14RiAFZQDwBkhXriDpt9TSgGYAX1AEBWqCfusNnXhGIAVlAPAGSFeuIOm31NKAZgBfUAQFaoJ+6w2deEYgBWUA8AZIV64g6bfU0oBmAF9QBAVqgn7rDZ14RiAFZQDwBkhXriDpt9TSgGYAX1AEBWqCfusNnXhGIAVlAPAGSFeuIOm31NKAZgBfUAQFaoJ+6w2deEYgBWUA8AZIV64g6bfU0oBmAF9QBAVqgn7rDZ14RiAFZQDwBkhXriDpt9TSgGYAX1AEBWqCfusNnXhGIAVlAPAGSFeuIOm31NKAZgBfUAQFaoJ+6w2deEYgBWUA8AZIV64g6bfU0oBmAF9QBAVqgn7rDZ14RiAFZQDwBkhXriDpt9TSgGYAX1AEBWqCfusNnXhGIAVlAPAGSFeuIOm31NKEZIVbaezMrUxKRMqjbzaEPdgp52Upa176a9/pz8dkrmnu+YX9jVTfWg/GZRZr6tLeNTd5dly6GFvPpuWWav1d775K1F2ayYX+SCenLuUE/sOdmR1fv1z3pa5l9+mc/6S7PZ1z0bisvbG7L6uCizN0xx1+3atMw+XJbV11tSPTF3RIeqsvFgRPr6+rw2dHtVynyWvU0V1uVrhUafji6o9cP8yqY860H1w6asPlmU+bvTMmXCrh6wZ+4XZfHpmmy+D77j8osZGTCfR9+P5mQj12DYXaqv52S4/t4vzcjqB/OLXFBPzh0H6kk71Q9bsvZM1Zs7U838oevNvaIsv9yUnazqSXVLFq/+wHzWBZl8vGV+4Rabfd1zobj8dkXmJgYaK2Rs++GUzD8nHHeOQezcOceDWHV7TYo3R+Qr896S2sDErKy8rb1zQrF574RidMrlUPxhQ5bvjEq/ee+x7athmV5YO3s4JhR7bPZ1D4Xiqmw9m5WR8MKX2H4go/fVgkkR7gCD2LlzLgcxUw9+07++t2lfT8vK+9qjCcXmvROK0SlHQ3H5zbJMD5r1JmXrnyjKRtk8QZj6HFduXPTuN/IgZloRodhjs697JhSXX/oKuWkDV2dk/vGqbLzelM03m7LxclmKt8dlKHS/UbXAxS2XCGMQO3fO4SC283y2pR4UrkzJ7HeLsrK+IZuv12Tl8aIU78/I+L8179s38BCKzXsnFKNTDobi6vuV1kD8w0lvuubaK5M/Xq3K8oMZGf06eL/CRMy8/Z1VmTG1iVCczGZf90Yo1gvPD30L2m+Py9yLnfgVcWdN5q82V9q+vhGZWycWp8Mgdu6cs0Gsuq0GqEv1dVu3YZl5upmwnFZl5+2GbPlKAKHYvHdCMTrlWihWwXT5em2Pbq1dlEk9NSLuTVd3ZPVuc5nv6/tKxhc2Wz6j8svZxg48QnEya32t9EAorsrmo0nfnMFhmVWBuK0PazL7Tf0xfXLxeugI88qWrD5elMVHi7L8srZSV3c2AwfvTd2ak8VnajBNNWBWpfxGbSk+nJVpc2T39F096X4rdhCovl+TZfX39WtYfVsbsfUBhCuP5puv4eacFB+vymYGmV4fjLT2dFHmbpuDA/SBAQ/Ua3y+4Zv7lH4Qqx/s2Hy+aZl9sCgrr9TnmTTwVcuy+WLZ24vnHRSlXsf03XkpPlqW1TdqYyfysSrYeJ/vXOPz1f1TXFB/Tx/YEFeg/FSfr5k+X1R/a207+kHlt6vmPqo9iwlb4ecKHcilld+teX05c732eidvzMr80qpsRNy3wbdcLr4wg82J+ryeNw/q0MvE8uvwAlH7fBYfND/TGd0Xr9XnqYp0+0Esg8+3jUzqgT7y/e5w47309Q3JzLOEDeQYqUPxSVW2XqvP9Tu1XtfPVnFnXi0Xa4GQHaeq1+el5vo8eX1G5h7q5Uo9/kPyq66+V+uX77FeLXiash6V1fL5VK2bN5vLTPHJmmyqv1nOKBRTT6gnuvV0PUmh/Ho+MG3T++Y5aXnU1Ge0ctN37NMP1Xrmiy16mZj/thm0+3+i+nKh2FxOnprQHRGKq2Z5X3xgatK1aVVTzLJee/pEHdeVUy9D2bHV11r3h+LKhsz/yCxYql28sZJ6hdp5OtWcEP9vxmXxne+B71dk6nfN78ZU+H043TLtotF+Z1Tm9EF75qEtPmxI8fpQ9GNV+8GVGVk2B/j4+bcUh2+rBe7OqBR8jwu03xyR2acJryGJ3nJ9MNkMAVHtd6fMfMt2g5gKCS+KMv0j/5741tZ/dV7WIrZdyq8XZardvKwL+vNuPriq9/xP+LfUo9qATH63llys9Bb/t83XPXI/YuvcN8/La43PJajqL5S/MyXL2+YXmloeFm/6g1u49cv4vZXoIuRbLr/SX7u9WZEZ38ZdrYX2GOjl71r88nfxJ9My5XuO8CCW2efbRib1QH+N6dtLPHBr9VTHDKQJxfqg3tmxhOX8qxGZeRIfclbuJqzPpg1dj/hq1ayvFyPu77XEelSbaz1aiHicbr8xLFM3xpvPfZpQTD2poZ54rafrSTt6I/yO77P44Wzq9aX6dlHG/039/V6UabXx7i0Pt5P60rRvVE3SGTMQin8gIzdnZDJhedf1JHYO82nrymmWoYxZ6Wuj60Nx9V1wwZrp5JyIegBtzO/pl6mnvsf6OjpdG5bZqL/9YU3mxr6KuH+ofa0KnT+UK/5QnK6NyNyrDrfG9BZripXwq6uLZk96u0EsvKcuvoX3zusiMXkh+r6B9pujUnxjHlhWG0VjEfdpaap/9VZ07VExqrL5cLT5mJ8UWwNJYJnRzRSzgODzND87RS8PP64XseR28VpEIPIvl785IANfBR9Ta0PN6UD68/lJiuXP1wKDWKafb7Is6kEgzJ5mfTDaheLy66KM/0797yS1gox/F9pzpAbS1ZTrSEuo1wPXnTSPre0hD1IB8+l0clgNt05DMfXEh3qiWy/Xk7ZCO+WG76kgb37Vlg60E82NJm/ZVxvLzZCb0CJDcbo2cDNix+FZ6kqny1AOrPS10fWhODB4FSaDe3vbCS1QQ3d8W6b+jjZN79EtPluTjTebsvl6Q1Yfzcjob/vuczm0ldgy+A3I1MP6gX8bsvZ4NvD4wre+YqdEheKBiTlZfrHhTdzXz7G6FHyOTvaU62K7teTbW65a/5h6j09r79E7MGBhTqZ/MirTT+oFqv3XnY29GvpAg4UVWTMHOm7qr5lv+T8P32Ckn/d+83n7Lk83P2vvsWuy8nBWJi/3y4Bv8NP93/iM9J65R+rzrT9Gfz6P52Xm6pAULge/nopTfuX76ji8R0bZeT7TsiXdGlyCe4hGH5r5Yieq8Nzy72G5KJP3FmW1fiDG+ooUbwVPHzZef2xdxHKp2/D1OVl8ot77K/U5PVmR2nQa9Zl+5xuUVUAbvd38e5uqfxdvt+6t9A9iWX++Sc5eD4LLpt5rs3bKr/4TQ7EOIlfM73T7nVGZ1Z+LWa83ni/K7E/6m79XG8yBASHQh/0yfne5uY6Yx8/dGJWB3wmH+tZQO3xL9Wf9QOIXizLjf12XmmfT8Ki/G5hrPTgp82Zd13937cl8616mjkIx9SSMetLL9SQF/fk1NryiNmiShOrVj+ZVnalKeVt9FmrZLk40a8jQLX+NUO2dmfYTFYrV5zr9sLme6OVgPrBnf0TmA1MZzl5X0i9D+bDS10bXh+KdJ1PNlXBwprNBUIfWW815Pf3XVaCsF6NwR1+Zi3zu8vq8jNbvo4qEf+tW78WebHxNORCx50Y/fs43Hym4sIZD8YAKvP7QXKMW6Me+gejfdjCIqa12/+A+cDM0rzpS+0FMf65beqU1PwYE5nL7vlJRBb45D00VF/9e+7DG31PvfaFZpAMbNWFxt4fp19c4aFP12QvfmqyXl9sRXxuq5S7wme+s+sJHMxBV3xZlvHGKsIvRe0LU3wgMPG0LkHqeRzFz2D6syowv5AzfiZhKoP7e2j1fYVatOYjl8PkmOHM9CK3PX32bZnmOlhSKt1TNaaxvhXEpvo74I5VNWfy2OajpI8zrryVwIJs3ENZub3ESel69V+rH5nGqeXulwp+7Pui40edfyeSjegiqyubCuPyg/nd/e1IWI6Zs6avZBZavTkIx9aQV9aR360kKug9Gf6P+XofV+N12gQ+IzS+hWpbuQDvdRmU+6tuxcnBDfvyRb1k5U11ROlmGcmKjr+u6PBSrlezReLMzVHCNnS8TKfjVnJ4P0yjigY7+QeTRoR49B8g3J6wZrEOvbSziqzNNDZ7Fn9T/jm8vgBIMxfFfBXtTSOpfWajBbjnmgI4wHcgbg7OeUx0xSLZKMYglCX1eo/XPNVQEvK/6UvTl1uPJZlH54YysdPJNQZTQ6xu+r1Zu86vgoPCV9DeK4ZDMvmy+2MDn2thbGfoq9cfz0cuDFhhIk6f1tBwg6lNe9y0/Cd+iBKcgBffsZP75JjhzPQgEIfXZ6K8JT1mYY0NxaK/d8F01gJhfhQXmgX7VPGah+kYNpPXb9XqddKYcn8Dzxa7nKgTdb9a0Qn3DQA+eE82vvWNftw41/jmSHYRi6kkE6knv1pMUAuvkb4xKMdUy37TzbLr5TcHvqg2WetecMhT3q/6L/KZYP59vA8w/zeNMdUXrYBnKi42+ruutUFyfZ5Na2lCcPB8msLVXfw2hYviDH80Ejx41rai/Trxc/zvBQSEQipMGJ/1a61/hpF4x1We35DtrR1xob9HhIFbZkS39dY+ebvJEveeFeZn5cTNU+Fd2/VWif894X2FEpr9bSTx6urod2rPVd1FGbxdl9U05uoi0pT6Xx77+9M0D9PfHV1fnZdG3R6RZZIKDlTedRX8+XmBr7jkMDI5hoYIYP60ntOcpQO8Z9A2aSf1bCe7h8w9i2X++8c5cD/Q6d735GecSinWQMecOTf78Fb3ntLEX07e30tsQDs7L1FfTW0w4E423XPrX1wvjMvtdaz1ZVDVm7tvmsuPtKNCvXb/uxt7G5GMvAgcgpw7F1JNo1JOerScp6EDZ2GAJTN9JJ+tQ7N+pFqTWM990Ij1Fp7YMnLGuaKmXofzY6Os6p6ZPNAqOFujo5IVdb8m3hNfQHuC0zT+FIxCKkwJ/B6+1Kbjllz5ApBjE1MC1tjQrk1eag1VcC6zsqj/W7o82v+L1taFva6Gh9fRJVVVYWi/UoNtX30zJ3OOE80XGCOx5r88D1K/NtwdN75Ha8e/BqX9LoYpUc09iv0w9MV/nBpaHr2RyKelIXDUA+b7yLFxTW/8dL5cd9K8urL69iP5BLI/PN86Z60FofdZ7M9It061iQ7Ee1BsH2LVZ1xI+Vz1NYboRrn3twmgtuLV8qMH+TN3qNbGD1x3YI5g6FFNP4lBPerSepBCcPqGnP3b24rcCe85nZa0+xodqWbpQnHSGh+B61gzFZ6wr2qnyR7Zs9HVdbx1oFz6tWjveAlXvzKQt6OSODswRrJ9SJ3RUatrmL1i5huJQUW6uJO0kD2L6wgmtp2OJb60ru9pyfVEMnNLH3y5enZPViK939Omx5r71fe3rb4NTUnwZv2esRWBPR23Lt1pek9nGHn3zGQduq80H9/aE1MOH7ytzPYg15221Oz2N+gx8e2V+4D/avINBzP8tSGL/enudmoEjOIjVZPr5xjh7PQjuDen8m6OmuFCsA07zOIE261roc21Z1j9syPId3+nPAm1Ypv3z8kLra+pmQm0nr/tUF++gnsSjnoT6pFfqSQr68/MfaJc0d71FqF75jy+wFYrPWFc8p8kfGbPS10bXh+LgHpC8TsmW3NFp9hQPfKtPTF5s0xZl0XcewJ7bU6zf81X/18IFGbmu3rfvUtvho2pjV3Z9UYT1ZZm/MdLckq43tZW6EvMVqD6B/eK9KRluHIBSbyMy55unl0wVinvNz2b4/pp6Lb6gUJ+/Fyooo99tyNZzf5jyFTn92TRORWRnz47/PST2rx7E/Ee3Rwxiddl8vtGyqAeBo/n1VKJTFujYUKzqzWTjbC9tnj9xj1mTvsjF6qPZiPOLfiXjD+tfi4f26FzWJ+SPqiHBtmj2vHXyugNnTPiSe4qpJ9STM8gkX7QTGuf9c3Xb8upD83MKLPu2QvEZ64rnVPkjW1b62uj+UKwWSv+Rk7lcvCN04EPYlv8rkMbXXsHCkDjnK0a+oTg0RyzqHJqR4gexwGCqP7OoDRRVMP3zPmNXdp/qzoYs3x0PnOop8kT4fvor10czMuI74EOf33Mz5bIRCEU/VgOx79yr/tes79foo9D9An0eet+JxTNUEE/3DUawfwN7h8ICA2zyINZwxs83Shb1IHyQj/c5xw3eCeJCsT5oqXlwVJuN8Lg5xXF0cNMXqvAdY+C/yMXp1lcjMKc4uZ4FNixSh2LqSRLqSRtdWk/aUxsL/tOudnAayJaLd/jrg7VQfMa6ohGKs5PNG1EDyZIvlPbpyzzHF/yGnVXfV1UmTPsHz0BHqxU7bgK7V5yaB9Q1n0ctbP6jg1VYbswXSinfUKye37+3IvU5nuMHscBGRtzrDZ22Kc0g5lFFYuNB8/NMO19054Vv/lrqAV4JfAPhPzI8NG9Mn6omam5oywEHoeKj9/rE9Wfqo8WT+zowEMdcKcsTXtbTDGLGqT/fCJnUA70++g5w1Z/R/ClOGh8bitUg5D/AaehOc/kPizv7RDt6ykDgFFzmrDOB9dV/wYk0vMGz/pxJITC4fnfSp9STBNSTVLqunqQQPJuMer9qGWxbcdT6uHKjGXr1NQ4CYTociuPW1zOH4jPWFe2U+SNLtvpa64FQrOiV3j9n7LfHZT7hNEfeZSavNvfi9n2lOjJ8Xe7Qih2+Nnndzkv/eYaDBSd4HsmvWq9sFVJ+vyNl34vOOxR7n5tvw2DodsJXYtWq+TyTBjHfkbSRBU1vwEwF5lA2BzF9Lfzka977j5KtH5CoT3S+lVA4AwWrkwMxdfjx7elvtPo3AXU6hN30hzDTLk23LC/hPQPRV2zSg91482jg8ODTSV8Hzm8aV6xDf0/fzzeI5fb5RsiqHpRf+cKobheS60GdWsQbYkOxEghr+jzFUX2glx/fxvJXV4vNvV4ftmRzO2HYDMwt9Z37NBQAI69Q5lMt78hO48+ENtL1+WqjTr2kQ1kjQOn7dRBMqCfxqCeeXqwnbemrON70BVzdFwsJY31lS1bv+jY8dW5YCvddyukqGYTis9UVhVCcnSzfSDkQTmttaGJWivqKKnrumWobL5aleGeyGTS95p+35xMOxar94Iq+KtKGbL7bkq13G7K6MN3cwtLtm4itPf9XK6oNfTsni8/rV6Qzr+n+jIzrr2RDBSv3UBxRwPTc58AV854UZfbaiAzoYOD9/fhBLLBnTLWRW4uy9lYF/cqObOmrT4W+svTuUx/E1GDgHZxRGJGpe4uysq5egwoO1WpZtt7qq//NybivP2rnI1WDore3pF9Gb87Lsv5c326pDYvaVYH0lXhmx5oDUf+1Ts6fGAoRpkVtsQcGb9MC53GsC+2d0nt/Ju/XrlS09V4FJf0Z3RkNfEbewOMvhh31tZ4vFiy+4/fU33ujll/v763J8r3WA72ag1ien2+r7OqBet8Pg8u1bgNj0zK3sGyuwKWWqefL3im9Zm+My/CFrwJ7GZNCsf562D8XUJ8xYnZJ1Rn12ezoz+XlssxN+AfJIZlVobyufiDbwNUZU5/U4ypqad5RffJqVYo3fTVDX4yn8VDVH6ErT/V9MyXzeo5tvZ6sr8rywzmZHtPBKjhNouV0WN+oeqb7dFutn+/UY58VZTp8QFpHe+uoJ/GoJ/oz6M160l5VfY7+C5vo5p1Nw3cFRu+Kjg9mZDRwWe9aCN2KCKGBU6WpjeOZxxtenfA+K7U8ext8WYRi3S9nqCuE4gxl+0aqsvN8VkYir7sd19RK/V3MnMNAR6dpetpGaFNeU1thgb3SSc16KFbUVuvydf8AHtMafz9+EPNW0Ki9IQmtZRCLuE9LG1QDtfc51YtsxH1a2kjH114PzmnUrflVdkDLspJwsRe1PPgPDEpq/RMRW+yd9vWHNZnr8CworYNY9P2CrfPPNyzTeqCWJ306rnAwTmqpQ7ESe0q1iDb6IFhjAmd3SGxqgz28HKn3tRq6Ylh8C88dVv35OLhntW3r9Cts6kks6kkP15MUdE2Y8R8PkKINXFd9EvM2vY3YxpktQq2+XmYSipWz1JWz5I+M2OzrHgrFNeW3q6HrfMe0K9O181Sax7UIdPSQTF6PO3WSahfGZe55wtezlU1ZVlvsLUc9h1phLHgpaSuhWFMD2Yrawg/vdQm0xpHPCYOYtqOK5pj/iPFgG7hWlNXnzb36zUFMf13UfqUsjM0GroK08yx0gv6o9nW6r89b6K+D/V8lx/WBKkz+eaYt8wTD9Oetlof4wFaQ0TvL0V9hnaKvvelCExFfyZp2cWJOFu835+X7v+7M9fMNyb4eqEFYH7gW3vsZ0xpXQ1PahWKtur0qc1fjP9e+3xwJnlbN8C6l7PsaOroNydRCzAa73kP4aFpGWo7YD7WvJ1uXj5OqbD6ZkeHGnNZwG5bph8Xm4N5pKNaoJ9GoJz1eT1L4oMZ6tey33fD87VGZ1Xt+E9+kql9PpqM/r6xDsXbaukIozk6eb6T6ftO74tH8vWmZmpiUSdWmbs1J8dGK9xVc227zd7Q+SOZtVT3nhqwszcvM9drzTd5Uz/d0TbbiwmqI95oe669rzePrr2lJvaZ35ZbXVH2/JsuPzClQniSc1FwVxdXH+up46n7quTY6HcSM+vubrb+/azMy91B/9Ri80lb59Yr6O7Ur3aysR3yWauXafKE++9tT5n1Oycx9dd/X5r5l9XrV4/Up6PRtfvo1rD4uyvyd6cZnNHlNnyZG3feVenxUSFDPt/FMPd/9GZn61jzG+5tFWX6ePK8wkX4fz2tX89GvdflF/EaU95k0TlezGvl1WJg+Cn5lqShzt8zndH1W5nX/JVxx69R9rcLQzqsVKTbWB9Mnr2p921zW1G1vQgt0Xp9vSH71QL33t2uyot5f47PW7dtpmX2gPke1Dm+GPnP9eayYZXz5WcL8QKX8ZlWW9TQMs97odVo/Z2Jd0F/jr6tl5uGczFyrf6bqsbfnpajW9c0PKT5UtSzofmmuZ6pdV+usN0UkuM6GeaeB07Wovq7fmPVOdbapO9O33AdOvdQh6kkI9aSm5+tJCvo9Pl+W4nezMl1/j3rdrC//HbzH8rb6LNXz1D8rXSMWX2zW1iG9TKnP0ltW1Pqz+ja+6Ow0lim17CXtEOy0rmSUP87CZl/3bCg+sy7Y+gFc0tX1AEBPoZ64w2ZfE4oJxYAVXV0PAPQU6ok7bPY1oZhQDFjR1fUAQE+hnrjDZl8TignFgBVdXQ8A9BTqiTts9jWhmFAMWNHV9QBAT6GeuMNmXxOKCcWAFV1dDwD0FOqJO2z2tbuh+ERf+ah2NZfNN52dQgVA57q6HgDoKdQTd9jsa3dDMQCrqAcAskI9cYfNviYUA7CCegAgK9QTd9jsa0IxACuoBwCyQj1xh82+JhQDsIJ6ACAr1BN32OxrQjEAK6gHALJCPXGHzb4mFAOwgnoAICvUE3fY7GtCMQArqAcAskI9cYfNviYUA7CCegAgK9QTd9jsa0IxACuoBwCyQj1xh82+JhQDsIJ6ACAr1BN32OxrQjEAK6gHALJCPXGHzb4mFAOwgnoAICvUE3fY7GtCMQArqAcAskI9cYfNviYUA7CCegAgK9QTd9jsa0IxACuoBwCyQj1xh82+JhQDsIJ6ACAr1BN32OxrQjEAK6gHALJCPXGHzb4mFAOwgnoAICvUE3fY7GtCMQArqAcAskI9cYfNviYUA7CCegAgK9QTd9jsa0IxACuoBwCyQj1xh82+JhQDsIJ6ACAr1BN32OxrQjEAK6gHALJCPXGHzb4mFAOwgnoAICvUE3fY7GtCMQArqAcAskI9cYfNviYUA7CCegAgK9QTd9jsa0IxACuoBwCyQj1xh82+7s1QXD2U2Qsl6euLaBMVKZu7xTuUubjHm9Y/WJbZpUPZOTEPaSfpNfnbhT3ZMA8BXHK+60H75+grlGTk2p4sv/nePAbAaeVVT8pPdqPXX1/T9WB64SCiHsTUgbF92TH3kPf7Mhr+vWr99w7VL49leSJ4e/Hd59rjfHYelQP3qbe5V+YOYSfHsra0J5OXS1Iw99XvYepBRbbK6vnLFZkqlGW58SK1qiyOtf6Ndm123Tw8Q7mNHRHOx55ivZBdUmHzRA2OhV1Z/mBub2d9T3XinqyZHwMqx7KxtCtDg7uyst26UKZTW6hGl6rmZ8BdbtQDM5Dc0QNcSPWjbL1QA9NgScYfHql7Ajit3OuJVw/Ksvje/NzwSao7h7J8qywFVQ9WP0TUg6Ra4rOzpMNt9P1qv1O1xB+oWyTUG6P6dl8mVVC/+JM9WXl77Ks7J7Kj6tHo1yWZeaj+bXmvcflF1VX1uuJuJxQnsPVGthZKMuBtZX2WjXslGVlIOdy0XXA/y5ZaMAuD6j4Vc1NHCMVAnRv1oP0gJZUDmbmkBo9Xab+GAhCWez2JDcV1qh48UvXgakRozSoUf6PqV6EkU0+Pza1hberN9r6MXyhLMenbqQ8VmVEb6q3vlVCcOTtv5EiKasEpvjM/vtuXEb2XyPyYKNWC+1HWbqtBVi10nUdbQjFQ50Y9SBGKla2H6j43K6eoKQC03OtJ21CsVCsyrYJgo97UZRWKx/Zl7bEK3oVdWY3cEE+qNyZ/PEpRZV7vyQCh2NP7oVh35pV92TI/1jty7nWKKQ8pF1w9sA73dfA1bEPcQgW4x416UPt77UJxfcCL/1oUQJLc60maUBwXBDMMxTumpgzdjdoQT6g3uhbqMJ0mfiTMKSYUZyj/N1L7ejTcOXqifOHWQcQCFJJ2EDR7n6aednqATNxCBbjHjXqQJhR/lrU77CkGziL3epImFJuD5vLcU+zlVBVwh9Tfad24j683G/fV7dfSHGgc50RWb5Vk/HF46kZCKC6UZD6HLsl/7Gjq7VBcPZCZqANpzO1tt5BSD4Jq4bhZkoH7R+bntAjFQJ0b9SBFKN7Re2VS7r0GECn3etI2FH/yNsILUcEz61Csas7GXVVX1M/Nb8G0uHqjNrxvt6lDpxYXivOTe1/79HQorj7fjdkSqm3hTD6Jm5xupB4EpbZnp+MFjFAM1LlRDxJCceVYNp/VjvaefkpNAM4i73oSH4pPpLx9KMUbJbk4ticbUXN9Mw/FijlAd/yxv3bE1ZsUG+enRig+tXzfSO18fjMvYo7gbplbGIFQDFjjRj0wg5EaNMKtoMLw5J2KbOrzggI4k3zrieLVg+h1eWhsV+ZfJGxk5xGKlfLT3dBBd4TirPVuKP5QkcnQghrVWub6+KUeBCO+Lo2cmB5GKAbqznU9aMhzMAJQl2s90bx60O5Auxg5hWJdX5avqtpzu36MRHy9Od2OvDQIxaeW5xtpnos0Xtv7pB4EIw6s8SbYt1thCMVA3bmuBw2EYsCGPOuJpytDsaJPM6lCae2YhPh645328UwH2sUhFJ9afm+kKsUrKQ5U0XuPCgkLZtpB0FsIQwfwEIqBjpzretBAKAZsyK+eGGcJxds6H+zKSptEqi/+ERl8ldhQrM+yo88s4U0HS6g3iXXqLAjFp5bbG9HzA79pMz/Q02aeYapBsLYAtpysP00oNl/pzr02PwMOO9f1oIFQDNiQWz2pO0soVnVAb6hPP/9ofo5Sq0dxV9yMD8VKVQXTSzqYHibUm9oZK6LPbxz2sTbdYiLNnmVC8anl80Zq5yJNe+nW6otdKcR1dIpBsKruMxR1WdcdvdepJOMPj2IWotqVryIvAQk46FzXgwZCMWBDPvXE50yhuH2t8H4fOGguKDEUK/psOwWVQYZUOI6vN6oeXdVTvZLq47F3dp6+QlmKb5NCfB2h+NTyeSOqQ1TnpV9QD2XuUsz9YwfBz1L9cCQr98py8bJaaD/EfC2rgvHMZRV81X2K61WpejugPklVn67lur49afAE3HLu64GHUAzYkE898TljKNZ1Y0sF235VMxZfHzf31laqsrawK8Nfq9yQEELbhWIdZleuqVqjAmpyvanKisojwzf2ZeOD71uyk4+ytb4v0yrD9A2q15gqEGuE4lPL9o34FgB/U1tim+YeTSe1rwLC972wJxve79XAeCHi977WP1iW2Sdxe4H9vpetZ3sypQbCft9jpxcOZSfmW1rARee7HrR7jrMMrgDCsq0nTfoKmNHrcK31qwCaPg5+lvKbisxOlORiofb4tqdmfFO7el347w49iDjbjTd3Wf2+7Ua4eh3vKlK8WVZh3Pec+tRyz9rnHP1tnP+1tLY85i435dXXUXr0QDsAvYZ6ACAr1BN32OxrQjEAK6gHALJCPXGHzb7uqVAcvdu+99rPf25vLg7QLagH0Y16AHSOetLd7STD6aNZ93USQvEXaAyCcBH1ILpRD4DOUU+6uxGKI9h8IwC6G/UAQFaoJ+6w2deEYgBWUA8AZIV64g6bfU0oBmAF9QBAVqgn7rDZ14RiAFZQDwBkhXriDpt9TSgGYAX1AEBWqCfusNnXhGIAVlAPAGSFeuIOm31NKAZgBfUAQFaoJ+6w2deEYgBWUA8AZIV64g6bfU0oBmAF9QBAVqgn7rDZ14RiAFZQDwBkhXriDpt9TSgGYAX1AEBWqCfusNnXhGIAVlAPAGSFeuIOm31NKAZgBfUAQFaoJ+6w2deEYgBWUA8AZIV64g6bfU0oBmAF9QBAVqgn7rDZ14RiAFZQDwBkhXriDpt9TSgGYAX1AEBWqCfusNnXhGIAVlAPAGSFeuIOm31NKAZgBfUAQFaoJ+6w2deEYgBWUA8AZIV64g6bfU0oBmAF9QBAVqgn7rDZ14RiAFZQDwBkhXriDpt9TSgGYAX1AEBWqCfusNnXvRmKq4cye6EkfX0RbaIiZXO3eIcyF/d40/oHyzK7dCg7J+YhdTF/++L9Q3OHpp1H5Zb79RV2ZeWDuQPgkO6sBzG1YGxfdsw95P2+jIZ/r1r/PbPOv9mTodDvJp8c137XUJXFseB9An8DQEdyqycNn2Tnxb5MT6jxvWDWWVUrRq/tyfKb72XncVkK18P15UTW7vjWce8xe7JhftsQUVNqNSNUj9rWryMpXvHdf3BPNs1vzpP8+7rpfOwp1gvYJbXgnajBUYXO5bShc31PLUh7smZ+DKgcy8bSrgwNqhC7/dnc6PN6Twau7MuW+TFZ1Vtw515HPA/giK6uB0m1wGdnSW/oRt3vozcYFq62qQnbtcFwdv2juQHAaeRbT2rrc//Ynqy8PZZqfedYtZYLhlVI7tfhNW7DtqJqz2C79fyzbD2s1Yzwc3h1ZmxXZtrkhuqLXSlM7Mmc2uAeXaqaW88fa2OHci5C8dZCSQa8vTafZeNeSUYWUi4cbQdCtdCqhbOgtr7WKuamhiOZu6QXWPNjEh2gv0kboIHzqavrwZlDsWIGwqE7h2ozOILeo61/f//I3ADgtPKsJ+WnKmwm7PSqqjF9RO+ZTfi2p6pqylBkdjDe7ctIzDfHtVC8LxtP1Ou4dRBdT+RYlidKMvPiyPsWilCcjXMQio+k+E1Jiu/Mj3pB03uJzI+JUg2EaovxthpkIwa65uCbpMOgDpxTXV0PsgjF2va+jBfUQPUyvIco5Z5kAKnkV0++l5VrJRl+mLTxeiKrN5NDcX2dH7gdFWqPZE5tIE8/j96TXA/FO9UDmYn7tqtR22pTswjF2ej9UNwyjaG2gKSaqpByINQL33BfxIKpv6ZVC+xq0rKYtFADDunqepBVKFa8uYaFsiz6pl15e57UbcvvzQ0AziS/enIsy1fbhWKznrfMKQ4x3w4FN5I/y8Z9tYF8sxIRlmsaoTh2p1pt7nItCBOKs9Tjobi2wIQXhnLiVw4+aUOx2fs09fR783Nd7euL6efho/Gaqs93pe9amoP/gPOtq+tBhqG4voeorx7OY/ceAzitPOuJt55f2pXVcgbHAakN9SH1XI1pFOGfIzRDsfKhIpPhnW+B2wjFWertUBy3F9bcnrgHV0sdimtflQxEzAWsTXSPC731OT/xoRlwRVfXg0xDsVY7Knzozr7MqwErdp4xgFPJt54cy+rtkhQulGR6oSIb2x/PsP769wzXpk2020AOhGKdP24Fz2gTnLpJKM5ST4fi+L2wrQtRpNShWGp7ftTA1sIbcMuyGPW1aCfzm4FzrqvrQeahWDFnmmjsMQaQmbzriQ6z1feHsrywK5PflKRfrcv9KtBO3tz3zkjRmdpG8vDldBvIwVCsBKaFHXoH+TeOmyAUZ6qHQ3GbvbAtcwsjZBGKY+f8pD0QD3BDV9eDHEKxd/S5DsWh+cUAzi7fehLlk1TLVdl4ti+zKoQWLsecrjXOS7XR3qcekzBtoq4lFKvgWz+ta+t0MEJxlno3FOs5NXrAadOaW1MRUofi+OkTHj3gtuwRDm/NAW7r6nqQdSh+X5tHPP74qLZBnXRqJgAdy7WetGWOG1DrdepvgjvYCdcailX0Necknm05dzGhOEs9G4rT7IVte5/UC2ncgXZ1ERfnUM9dCC3UgMu6uh5kGorVIHXV/zVp7efoUzMBOI0860kq1YpMqw3t2Vfm53bOGIrrO9pap2MRirPUo6E45RXivCM0ExbCtAupnhscdUo2n+BXGinnNAMO6ep64M3/3ZWVNqeJ2dKXbk/c2K1dpaplz3B9z/E5HrgAm/KqJ94e2VQ7tA5lVofidfNjO2cOxXEIxVnqzVCspyukukJcm3mGqRbS2pGjURfvCPC+vjWDqvl/27NfAA7p7npQC9ZxJ9OvqT0+6UI8tXnE0XOI63OMi+/ahHcAbeVVT2rfBqW4toDZU5zqqrYaofjUchs7IvRgKI4/sC1K4inTUiykbS/V2NDcO5z6PMmAQ7q9HrRb173f61O7xdWCyoHMXEraG1zbwGZ+MXB2+dSTeiguydCtuFOtap+9b430FSrTBVeFUHxqefV1lB4MxYcyG3cKtEh6Hk7M/WMX0s9S/XAkK/fKcvGyGgQ/pNyzo56vcGVXptJ8lQs4puvrgR7o1GDUr9b5xdfHzY3aSlXWFnZl+OtdKb6N25Nc9a6CVWh7oZ7a/OL29wOQJJ960gzF+vRp/WN7srhelWrjy6UTKW8fyrKXDTrcuCUUn1pefR2lh0LxsXc9cv+R5F4b3JNNc4+m2iUQW+57oX6kqBoYL0T83tf6B8sy++Sow4HLTITn3MRAi+6tB36fpfymIrMTJblYqN2v8HVJJu9UZDPu6lav9rxzmAaeu2VAi6o5nYR5AH7Z1pMm79skbw/w97L1bE+mVOCs1wLdhsZ2ZS5VNoipO77WctzRm9oUq/D9hh6Ez3wV99wppn30oLz6OkqPHmgHoNdQDwBkhXriDpt9TSgGYAX1AEBWqCfusNnXPRWKW78q6M3285+f37k/QBzqQXSjHgCdo55Et/NYT7Lu6ySE4i/QGAThIupBdKMeAJ2jnkQ3QvHZMH0CgBXUAwBZoZ64w2ZfE4oBWEE9AJAV6ok7bPY1oRiAFdQDAFmhnrjDZl8TigFYQT0AkBXqiTts9jWhGIAV1AMAWaGeuMNmXxOKAVhBPQCQFeqJO2z2NaEYgBXUAwBZoZ64w2ZfE4oBWEE9AJAV6ok7bPY1oRiAFdQDAFmhnrjDZl8TigFYQT0AkBXqiTts9jWhGIAV1AMAWaGeuMNmXxOKAVhBPQCQFeqJO2z2NaEYgBXUAwBZoZ64w2ZfE4oBWEE9AJAV6ok7bPY1oRiAFdQDAFmhnrjDZl8TigFYQT0AkBXqiTts9jWhGIAV1AMAWaGeuMNmXxOKAVhBPQCQFeqJO2z2NaEYgBXUAwBZoZ64w2ZfE4oBWEE9AJAV6ok7bPY1oRiAFdQDAFmhnrjDZl8TigFYQT0AkBXqiTts9jWhGIAV1AMAWaGeuMNmX/doKD6W5YmS9PWlaBMVKZtHaeUnu4Hfjzw8Mr/xeb8vo7771Fv/vUNzB5G1O62/b9dGl6rm0TGqhzJ7IfqxgXZhTzbMQ4BekX9h+yzldxWZv1aWofp6VCjJ8MSeLK4fe/fYfFCSwt3metzqk+ys78usqi8X1WNr65tad6/tycq779Xvv5eV6yUZf1x7vkgnx7K2tCeTl9XfMuvsxctlmV44kJ0Tc5+A1npWfPfZ/K5p51E5cJ96m3tl7hAlppa1tFCdBLpd9vXkWFauhdaLiLG2+nJP+v33UW32ZeSKjYzkP3Y0nZ89xV7xL8vie/NzO43BIvkxO0t6INqTNfNznReK74QH16osjsXf3jYURzrLY4HukW89OJbV2yqEqgA7vXAoW5VP5nblw6Es3lDBdGJf5lWgbV0/jcqRFFU4LXxdlrlnR1Ku1oPpZ6m+P5A5tR4O396XuR8nrI/bFZkaVPe7sS9r2x/NjZ+kun0oRfUaChd2pfi2fnurWr1Rr3FsX3bMba3i6kxaauNbD+Tr5kegB+VWT7b3ZVxtEM+ux6+nIh9lTdebq/uyZW5BfvIdO4KcD8UjV9SCfS1+LwmhGMhGfvVADVBqfRy6VYnZE6t9lM2H5dqe28gwqdazqyUZf6jCsLmllQret9Tj1XNEro9mMB1/FLeufpby810ZKqg6td26J1jz6s03qi6p55l6Grc3mlAM5FdPPsuWWg8LSevpY/37XVn5YG5ArvLr61aOh2J1//XaQDb9PHqrkFAMZCOvelBd35OBS7uyVjE3xDLTFCLCpLeej6XZ63Moc5ei1scjmRtUwVw9d/Ka+lk27qvXMBg9Bar+OtbMoLsa+Z4IxUC++aK2oR1ZE1LtSUaW8u3rIELxe7VVqOfq6UEqYjQjFAPZyKce1ILuyEK69SN6TnEt6M68SDMvMHpOcfnZbi3EpnkZ1QOZ0XuCn+k5ykH1ULxj1vsh9Vpbn5JQDOSeL/QxPi0bumbjN3K9RF5y72sfQrF3f7Og32896C4uFG8tRA2ucYOVGrivRg+C7RGKcT7kUg/KFZlSAW/utfn5NF7vyUDfrqyc+kgzFZSvlWTAdyBuss+ycU/ViYhpW81QrKjXNeS9t/BXuIRiwEq+MHuFa98kJ+w9Rq6s9LVBKDb3r77SA5D6OTSHKC4URzvrYBWFUIzzIZd6oAatjtb7KC/1GWnSruNRVMj0Bs4OjkCP+ZuBUCwnsnE3ahAmFAO28kX1uf4WqCzFR7sykDDPGPmx1dcaobhx/+bRpP6jvgnFQDZyqQfre2r9PFso7mwdj3KKkOm97ta908FQrFQOZOaSnq7hX/8JxYC9fFHLBvoA27hjj5Ave31NKA7e/0NFpkIH3RGKgWzkUg/OeyhWyk/NfOXGQXeEYsBevlDr29VaKG5/IC3yYK+vCcUt9/dOteI7kj3XUKznQxbKsuwfAVsQinE+5FIPOl3vo3gB9Yyh+DTTJwqtZ6CICsW6BuhjEgZuH5gBOaHOvNmToYjnDSIUo/fZyRdmCtOgqg9vzSkXGYuts9PXNYTilvsfSfFK86C7XENxqtdMKMb5kEs9qFZkWgW8Mx1o925fhq0eaCe107K1O9DOT73GEe996vmMCXUmVcAnFKP32cgX+nSP/vOKez/rMZt5xVbZ6Os6QnHU/c1R3/pSq4RiIBv51IMT74IanQTSVlVvQ3jyScKlm9uovtiVwiVVJ9KspvpUT5fanZItzJzf+Io+6I5QDOSeLypqg7tlz7Bvz3Hb86IjK7n3tQ+hOPL+J41Tr6x96VD8oSKTZ90TBnSB3OqBWo/GL5RlOc26b06xNPfK/Gx4Z5+JOVd5WG1v0a4sB65mZb5hUut+8lOku3hH5IwqE6ZHlw7PForPfAo64MvLN1+osTwwZcmv9rvCzUqbdR1ZybevgwjFcfc3W4lDg2rwySsU76jAq7dEYy8tG31GDKAX5VkPdFAd/pEKmgl7b6pmTqC+HHTr+la7tOvw9UrCOUjNZZrVRqpeZ1sGxA4u81x8G/31a2IoVmqnh1LvQYXjyDqjwn2/en0zz5IvEc3FB9Dr8qsnzQt6xe4NNgflM7/YjjzHjjBCccL9vaO+1QCTWyjWVDCeuayC7+VdKa5Xpeodq/NJqtuHUryub09YMYEeknc9qL7ek5GvyzL3or4eaZ+l+uFIVu6VvbA4cvcgZgNUU4OhWueH1bq4+PrYFxrN+nhDrY/qOaaWIgJx3bYaLPWFgCb2ZHX7o7lf7fGLt8pSuFCW+dfxp3VqF4r1hYD0/GV9JHx0nVHB+82+TF4oSf/Ynqy8rb+PEym/rcjsj9TtE1x8AL0vr3pSu2ZB1EVzgmrfGLW/H84u77HDr0dDce3Srt7A0K5NhPcKHcm8t/c31NRW4aa5R5MJuQmhuPxEn4Q/9FyhFv6qttX3svVsT6bU39IDt35M/2BZphcOZaeDA9qBbmalsJ0cy9pScF0qfF2SyTv7srbzydypjbIK0Qu7Mqk3Vn3r49SDimyVUwyA5jX4H3/xsl6fD+LXZ33WCHNffxt60HqVzdoFS9Tvkza+Y17D3LO4b6WA3pJ9PYnOFbMvgytt1Jjfr9ZF9hnnx8rYYZyfPcUAuhr1AEBWqCfusNnXhGIAVlAPAGSFeuIOm33dU6E4/JWFy219nXkV6C3Ug+5uJ5QU9JBuqyeXLu2ZZ0LWsu7rJITiHm2EYvQa6kF3N0Ixekm31RNCcX6y7uskTJ8AYAX1AEBWqCfusNnXhGIAVlAPAGSFeuIOm31NKAZgBfUAQFaoJ+6w2deEYgBWUA8AZIV64g6bfU0oBmAF9QBAVqgn7rDZ14RiAFZQDwBkhXriDpt9TSgGYAX1AEBWqCfusNnXhGIAVlAPAGSFeuIOm31NKAZgBfUAQFaoJ+6w2deEYgBWUA8AZIV64g6bfU0oBmAF9QBAVqgn7rDZ14RiAFZQDwBkhXriDpt9TSgGYAX1AEBWqCfusNnXhGIAVlAPAGSFeuIOm31NKAZgBfUAQFaoJ+6w2deEYgBWUA8AZIV64g6bfU0oBmAF9QBAVqgn7rDZ14RiAFZQDwBkhXriDpt9TSgGYAX1AEBWqCfusNnXhGIAVlAPAGSFeuIOm31NKAZgBfUAQFaoJ+6w2deEYgBWUA8AZIV64g6bfU0oBmAF9QBAVqgn7rDZ170Vil/tSX9fSfpMK9ysSNX8qqF6KLMXmvdptImKlM1dgj7Jzvq+zE6U5GKhdt/C1yWZvLkvqzufzH1CQq+j3kYfNV/NzqNyy+91m3ulf3ssy+rv+W8vvvvsPc4v+TmA3pJPYWtdl8Kt8HVZph5UZKvcuo6JHMn8YPTj4tuerJlH163dibpfchtdaqleAFLKp56gG9ns6x7dU6yCrxlYZtdPzG0R1vfUfcqy+N78HHZSleXratC8vCvF9apU609Vqcrawq4Mq5A8uXDUGrwNbyC8c2h+ilOVxbH4++0smeA7ti875rZWyc8B9IJcC9v7fRmNW9erH2XrxZ6MXCjL3OuP5sZWqdZnr6bEhOKWx8att7XbCcXA6eVaT9BVbPZ1T4fikStqwBnckw1za4vEUKwGpqsqEF/dl624XP2hIjODJRmPGbwyC8XfqPeiAvjU02NzaxihGL0v18KWFIqNqqoHQwV1n+2oPcaEYqCX5FpP0FVs9nVPh+LZ5+pfFVpHHh6Z20NiQ/Fn2bivBisVqNcq5qY4r9VAqv7W3OvWgTSzUDy2L2uPy1Io7Mpq5OshFKP35VrYUoRivd5v6SlJMd/KEIqB3pFrPUFXsdnXvR2K19Xw8nJXBgplWY4aDONCcbkiU4WSzLxImHrRcCKrt0pSuN46JznLULxj7jd091D9L4xQjN6Xa2FLFYqVakWmz7KR+0ZtJKuN6U3zYx2hGLAr13qCrmKzr3s+FOsDbVauqdB6LeJAuphQXH66K32XEqZdhL3ek4G+XVkJ/YFsQ7ESu1eaUIzel2thSxuK9UbuzZIM3G/9dilqfd7R3+BEbBCHbS2oGqQ2aIPi1ttjWb5akqln35ufAXQq13qCrmKzr89BKFbUgDiu9/y+DB1EExOKN+6qgSrqzBWxDmTG//eMzEOxGrC916Z+3vJ+riMUo/flWthSh2IVYB+qdSliIzoyFAfWz06x3gJ5ybWeoKvY7OvzEYrrcwX1QXf+pBsTitOFWb/a35t6Gtyzk30oVioqgF8qyfhj/xthcEXvy7WwdRCK44Kutz6r9bylEYqBrpNrPUFXsdnX5yQUa0cyFz7orhdDsaKndwQPumNwRe/LtbBlFYpD6xh7ioHulGs9QVex2dfnKBSrIeiVnpOrBsb6KZeynj4RumhGXqFYP0bPORy4fWBeI4Mrel+uhS2v6RMp5xRHY70F8pJrPUFXsdnX5yoUi3z0DqJpHHTXawfa+b3blxH1HmsH3TG4ovflWthSh+LODrQ7G9ZbIC+51hN0FZt9fc5CsfKhdrq16ecfY0OxVA9kRt0n8Wp4DSfeYBm1t8ibxxx11osANTD+OP70S/Ffz5pzKV/RB90xuKL35VrY0oZis+6f/rzjtW+aRhbSfM/EegvkJdd6gq5is6/PXyhWvKB5aU/WnseEYn1gnv4K9YwX7/D25sZecMNQIX1SPb74zvwckjhnsare5yUdqA8ZXNHzci1sKUOxN18/Zn1LG4rT71EmFAN5ybWeoKvY7OtzGYr1QXfFKyUZGlQDUuxAqQaslJd5HlmIuWKefPQGyCE16EXvN6r9vpAwfzkxFCvV5/qgO/U3VDhmcEUvy7WwpQnF2/syfkHd5yyXeVYIxcCXl2s9QVex2dfnNBQrZg9vfChWTqqyfF3dZ3BX5l9UpVw1g2WlKmtLuzKiwujog7jAW1cL18M39mXjQz1df5Lq9qEUb5Tk4sS+bCbsSW4XiusXJ/FODcXgih6Wa2FLCsV6fV7YleGvd6X4NnQucx9CMdA7cq0n6Co2+7rHQrEvIPrbhV1Z+WDu0vBR1m7r37fZe6QC7M76vsxOqACrQrB+vsLXJZm8uS+rO5/Mfdr5Xjaf7MnkZfVY85ouXi7L7JOj+PnG+nKx9dfva0MPIvZKb+sBX/2ewRU9LJ/CdizLat0Nr0f+Vvi6LFMPDmQn8huhI5n3vlHqsMWsi+Unu9H397W50FlsAHQun3qCbmSzr3t0TzGAXkM9AJAV6ok7bPY1oRiAFdQDAFmhnrjDZl/3VCiO+irS1bae6nRyQPegHkS3n/88zendAPhlXU/QvWz2NaG4RxuhGL2GehDdCMVA57KuJ+heNvua6RMArKAeAMgK9cQdNvuaUAzACuoBgKxQT9xhs68JxQCsoB4AyAr1xB02+5pQDMAK6gGArFBP3GGzrwnFAKygHgDICvXEHTb7mlAMwArqAYCsUE/cYbOvCcUArKAeAMgK9cQdNvuaUAzACuoBgKxQT9xhs68JxQCsoB4AyAr1xB02+5pQDMAK6gGArFBP3GGzrwnFAKygHgDICvXEHTb7mlAMwArqAYCsUE/cYbOvCcUArKAeAMgK9cQdNvuaUAzACuoBgKxQT9xhs68JxQCsoB4AyAr1xB02+5pQDMAK6gGArFBP3GGzrwnFAKygHgDICvXEHTb7mlAMwArqAYCsUE/cYbOvCcUArKAeAMgK9cQdNvuaUAzACuoBgKxQT9xhs68JxQCsoB4AyAr1xB02+5pQDMAK6gGArFBP3GGzrwnFAKygHgDICvXEHTb7uidDcfnZgoz91k8T2/jvL8if/dWG/PrEPKjhn+Uvfz/6MY126Wfy7/7k7+Tlrw7MY9o4+bW8+du/lj/9g5/JuHmOP/qDuL/vtymPfi/0t8PNey3Lsvp21zymLvTYS4vy/7a83BPZ+JnvPo22IKv/y9wFsCTzevBqT/r7StJnWuFmRarmVw3VQ5m90LxPo01UpOzd4VDmon4/ti873u+V9/syGv69av33DtUvQ49vPG+cIyle8d1/cE+tyQA6lVe+QPex2de9vaf4v/y1CngP5Rf/0/zccCIff/3PsvqfvlPhWIXFmAD4RgfGn/3S/BTyv34pj/63BzL3/H+YG2L86qXMqZA99R9+IW8aIVr9/V/9Up7+hwcy/nsL8vRdu3D9a/nFH8e8luMD+Zd//Dv5U/U3Zv7iv0nUM3nvQ4XdP1KP/2hua/VLKar7zPztr83PgF351QMVfE3InF1P2Apd31P3Kcvie/Ozn/e7PVkzP8bZWSpH3s+7fWxXZlTgnXv92dzaqvpiVwoTezI3VpLRpZYIDyCl3PMFuobNvj6nobjp13/zUMav/z8qdrZKDMXawSv5s0sJz/+rv5eZSypo/s1/Nze0Kv/Donyrn+NX5oZICaG47mBD/o9vHkjx/zs2NzR57+MPv5N/91sP5NF/NTe2IBTjy8qvHtRC8YjeAzu4Jxvm1ha5h+J92XiiQu+tg9Y91p5jWZ4oycyLI1kkFANnknu+QNew2dfnPhTLsQq2Kiwub5uffdqGYmXj3k/ljx7+s/nJ75/l0e//VL5Vj2+3H/ifHj6Qsd//v+SfzM+tUoRi5V/+Qj3Pf3zVsje49j5eyZsH6vd/+Av5F3N7EKEYX1Z+9aAWimefq38HVTh+eGRuD7EQineqBzJT2JXlD+YXfu/2ZeSSDu1VQjFwRrnnC3QNm319/kOxCYPF/2J+9EkTiuPuc7D65zKu5/G27rhtpYP5pZ/K3Gp4XnBdulD86799KGN//Pcte70br9Hbm6yC7/8dFXwJxfiy8qsHJhSvi1Rf7spAoSzLscE351Asn9WGtArmC+HAeyJrd+pBmFAMnFXu+QJdw2Zfn/9Q/D//XmZOvaf4X2X1RtSe4l15+Sfq9u/SHyLzT9/9TMb+5GXMXuV0odh7vbF7imuPLT9fUGF9QV62zKMmFOPLyq8eNEOxnqKwcq0khWsRB7xZCcXKh4pMFnZl1Z95A7cRioGzyj1foGvY7OtzHopPVBh9IOMqjEYdEd4uFB+o5/fmA7c8/6YUL/1U/uwf0uwmNv6zfq1/LdGfRopQ/OuXcvdS9Jzh4PtQz3VdBfZ7G6EATijGl5VfPfCHYuX9vowXSjLzMrT5aCsUq7qzeqskk0+a9WFroSQD3tkqNEIxcFa55wt0DZt9fU5D8bEcmLM//NEf/538U8yk3+hQrB776/8mL//PBZm6HHfmiPgpGbG817ogL/fMzwEJofjg17K1uiz//nL8mTBa3oc+APC3wgflEYrxZeVXD0KhWD7L1iMVUvVBd/7caS0UK6/3ZODKvmx5PxzK3KWSFN95PyiEYuCscs8X6Bo2+/ochGIVCCPat3/85/KX/5gcAL0wGfHYMRUo5/7qlwnnGM4pFLe8jp/KuArDf/qzl7IV+biaqHDvHdwXOOiOUIwvK796EA7F2pHMhQ+6sxmKVfDV5yPWp2crt5yRglAMnFXu+QJdw2ZfO3CgXbzIPcV7/yy/+N8fyPj1X8hW7GklTjl94tLy6adPJIh8H8fqNepzG/9Nfe8yoRhfVn71ICoUq+j5ak+GdAjeNucNthqK1d835ySebTl3MaEYOKvc8wW6hs2+JhRHBtED+aeH36lg3Hqmh5pTHGj38OwH2sWJex8H/7DoO+iOUIwvK796EB2KRT7K6k3fQXeWQ3F92kRfYxpFHaEYOKvc8wW6hs2+JhTHBtED2bj3M9+e1qCP/6gC5zd/LW9SnZJNBdJvzn5Ktjjx7+NfvfA+/h9fqXdDKMaXlV89iAvFyoeKTBVKMv38Y3Io3taXct6VleRrNNfmKreE37hQHIdQDJxV7vkCXcNmXxOKk4KouaLd08ir0f13Wf5DuxfviJP4PrxT0v1Miv/lFaEYX1R+9SAhFCteYL20J2vPE0KxCqp6DrAXnmPVrkjXeg5iQjFgW+75Al3DZl8TitsEUe+8vzGXiU5/mefvZLlx5HmUHEOx8i9/8Z0K5Q/kW0IxvqD86kFyKNYH3enAOzRYSgjFKqqu76n7qPBcMTeEeL/X5xqO+D2hGLAr93yBrmGzrwnFbYNobY/wn/1DzP7gX72UOX255xt/Jxu/OjAX1jiRj7/6pfziP30n47/3UP7yv7bbl5xvKK5fklqfzYJQjC8lv3rQLhQrr/VBd8mh2DuVmwq3/Zd3ZfH1sYquRqUqawu7Mvz1rhTfRu9JJhQDduWeL9A1bPZ1T4bi8rMFL+DFtXEVEOO/BP1n+UsTEMPt3yfNH/buExPAT34tb/72r+VP/+Bn5n4/lT/6gwX5s7/aSDitm7Ypj34v+BqCLTnwl5//eePv+dvd5/9q7tF08J//Wv5I/Y5QjC8l+3pQu3pdnxd2fe3Crqx8MHdp+Chrt/Xvk0Kx9lnKbyoyO1GSi4Xa8xW+LsnknYpslv1nkDDe1MN2sA098J0KzlO7zHP4fn19u7Lc8loBtJNXvkD3sdnXvb2nGEDPoB4AyAr1xB02+5pQDMAK6gGArFBP3GGzr3sqFIenCdDO1j6dRHwdDOQk63rQOhWhN9vPf87cYqBTWdcTdC+bfU0odrgRimFT1vUgKmD2YiMUA53Lup6ge9nsa6ZPALCCegAgK9QTd9jsa0IxACuoBwCyQj1xh82+JhQDsIJ6ACAr1BN32OxrQjEAK6gHALJCPXGHzb4mFAOwgnoAICvUE3fY7GtCMQArqAcAskI9cYfNviYUA7CCegAgK9QTd9jsa0IxACuoBwCyQj1xh82+JhQDsIJ6ACAr1BN32OxrQjEAK6gHALJCPXGHzb4mFAOwgnoAICvUE3fY7GtCMQArqAcAskI9cYfNviYUA7CCegAgK9QTd9jsa0IxACuoBwCyQj1xh82+JhQDsIJ6ACAr1BN32OxrQjEAK6gHALJCPXGHzb4mFAOwgnoAICvUE3fY7GtCMQArqAcAskI9cYfNviYUA7CCegAgK9QTd9jsa0IxACuoBwCyQj1xh82+JhQDsIJ6ACAr1BN32OxrQjEAK6gHALJCPXGHzb4mFAOwgnoAICvUE3fY7OueCsU7j8rS11cKtsKurHwwd6irHsrshdD9VLt4/1D98kjmB1t/l9z2ZK32zDVv9mQo8n7NVvi6LFMPKrJVMY8JS/Ecug1N7Mnym+/Ng4DelVdhKz/ZjVx3/K1/sCzTCweyc2IeFPZ+X0YjHqfbwD1dNxJkUQ+UtTvRj01qo0tV82jALXnVE3Qfm33dg3uKj2V5oiQzL+JGt6Dqi10pTFSkbH728wahO20GvPU9NfiEQnGDCt9qYJpdNz8GfJKyeuzIZRXatz+b26IkPMfJR9l6oZ6jUJJxBj/0uNwLm7eulmXxvfm54ZNUdw5l+VZZCoO7svohaX001HN5dUOH5Ut7smFuTna2ehBdj6qyOBZ/O6EYrsq9nqBr2Ozrnpw+UX66K33XooNuUC1ATz+PDtD5huKa6nMVysf2Zcf83Kr9c8i7fRlR95l7nWIwB7pU7oUtNhTXfZatRyoYX01aH7UTWb1Vksknx+r/nWyEn60eEIqB9HKvJ+gaNvu6N+cUVw9kprAry+FpE2EfKjKp7rcaM27YCMUi6rV6gdb82CLNc9QGwOGHR+ZnoPfkXtjahmKlWpFptb4V35mfo3j3adYN79umVBvhZ6sHhGIgvdzrCbqGzb7u0QPtPnsDyMhC8oCwtZA8HzBVKNbzBQf3ZNP8GJRmEGx3n5Sh+MeEYvS23AtbmlCcYn3Tc5QLtw7UWlenHpNmI/yM9YBQDKSXez1B17DZ1z0aipXXezLwzb5smR9bHUnxm6Q9tNGD0M7jshSup9krpKUYBPXeanWfs+wprqrBXh/Iw/QJ9LLcC1uaUGwOqIvfU1ybLjG77l/XPsvGvfYb4WetB3ojvnA3bShWr/NqSaaecRAu3JR7PUHXsNnXvRuK1WBRvJIQFHVovpIUmmNC8VJZ+hLnAPu1GwQ/en8jeQ5jwnNUqrK2sCvDhZJMPmaPEHpb7oWtbSj+5IXbxKkQev5+1IF1+vbEjXAti3oQFheKAbflXk/QNWz2dQ+HYrNnJXKw8B8oE88LxWoQa2lnDcXVj7LztiLz35bk4sS+bCachqn+HJGvw7SL19RzlNlLjN6We2GLDcUnUt4+lOINtS6NqcCbsD5uPSzJwP2oaUptNsI9WdSDMEIxECX3eoKuYbOvezoUxx5Il/JAvKz2FEcF2b7BXSmuJ4fymqS9S2ow3zmSlXtl6S+UZOZ5mucDulPu9cALxRHrompDY7sy/6Ld+nMoc5fip1a0zjUOy6IehBGKgSi51xN0DZt93duhWL6XlWute4TbD141kaH4zHOKP0v5zb5MDZZk/OFR29eQHIqbmFeMXpd7PUgzpziJnnJVD7FxLeFsNtnUgzBCMRAl/3yBbmGzr3s8FKsho+XiHLVBJHigTLSoUNyZhEBbOZS5H6W56Ea6UOxNCblZShX2gW6Uez04UyhOM+Wq3X2yqAdhhGIgio18ge5gs697PhTrgSjwlWfcgTIR0obijbtxR563CbSVA5m5pAbp017RLqSzqR1Ad8m9HpwlFKc997nemxy7DmZRD8IIxUAUO/kC3cBmX5+DUFw7XVLt4Jja/9OezzdtKI6/X/tAW7+CVfxR62lDce299d2ssKcYPSn3enCGUOxdJTPVupU07ziLehBGKAai2MkX6AY2+/ochGKlvnf4JPlAmTAboVifT1TPex6PPaVaylC8vS/j+mC7VJebBbpP7vXg1KG4k0s5J10UKIt6EEYoBqJYyxf44mz29fkIxWbgmLoenl+czE4oVnRo1wfoRJ6Kqd1znEj5de1AneG7h+wlRs/KvR6cNhTrC3oU4i7lHsE7603U/bOoB2GEYiCKvXyBL81mX5+TUFw744Q+OnzqabsrPB3JvAqYLUeVt2v+QUlf+jnqPrEDcu0AHe8+9fmIsc/R2i7+KM3ppIDullc9qK/7ca1frbvRG5PRtaA/8uIeJpyG7tunN8KzqAc+7d6PbnOvzJ0BR9nMF/iybPb1uQnFALob9QBAVqgn7rDZ14RiAFZQDwBkhXriDpt93VOhOOprRFfb+joH3KG3UA/ya9QDuCbreoLuZbOvCcU92hgE0WuoB/k16gFck3U9Qfey2ddMnwBgBfUAQFaoJ+6w2deEYgBWUA8AZIV64g6bfU0oBmAF9QBAVqgn7rDZ14RiAFZQDwBkhXriDpt9TSgGYAX1AEBWqCfusNnXhGIAVlAPAGSFeuIOm31NKAZgBfUAQFaoJ+6w2deEYgBWUA8AZIV64g6bfU0oBmAF9QBAVqgn7rDZ14RiAFZQDwBkhXriDpt9TSgGYAX1AEBWqCfusNnXhGIAVlAPAGSFeuIOm31NKAZgBfUAQFaoJ+6w2deEYgBWUA8AZIV64g6bfU0oBmAF9QBAVqgn7rDZ14RiAFZQDwBkhXriDpt9TSgGYAX1AEBWqCfusNnXhGIAVlAPAGSFeuIOm31NKAZgBfUAQFaoJ+6w2deEYgBWUA8AZIV64g6bfU0oBmAF9QBAVqgn7rDZ14RiAFZQDwBkhXriDpt9TSgGYAX1AEBWqCfusNnXhGIAVuRVD8pPdqWvr5TY+gfLMr1wIDsn5kENRzI/GP2YRiuUZOTanqxsfzSPaePkWNaW9mTyckkK5jkuXo77+9qxLE8E/2bx3Wfzu6adR+XAfept7pW5A+AQ8oU7bPY1oRiAFbnXg/U9FRLLsvje/NzwSao7h7J8qyyFwV1Z/dAaOLW1Oypk3jk0P4V8OJS5H5Vk6mnV3BBjuyJTKmQP39iXtUaIVn9/+1CKN1RIvrArxbfx4XpnyQTfsX3ZMbe1qsriWMJrBRxAvnCHzb4mFAOwIvd6EBuK6z7L1iMVjK9GB87EUKxVKjJdSHj+7X0ZL5Rk/FFccP4s5ee7MqSfYzs6mHuh+JuSjKjnmXp6bG4NIxQD5At32OxrQjEAK3KvB21DsVJVwbZPT08wP/u0DcUq1K7dLsnA/SPzs9+RzA2WZEg9Pnlf8mfZuK/+zuCebJhb/LxQPLYva49VeC/symrF/CKAUAyQL9xhs68JxQCsyL0epAnFciizKhTPrpsffdqH4vj7lJ/t1kJsm9kVnuqBzOg9wc++Nzc01UPxjgm+Q3ejQjahGCBfuMNmXxOKAViRez1IE4rf78voqfcU1w6Ia91T/L2sXFO330sbUj/Lxj31t65VpGxuqWuGYuX1ngzpA+leh6daEIoB8oU7bPY1oRiAFbnXg7ah+JMXRgsRYVRrF4qr6vn1fODlluc/lNlCSaafR55aItpLfcaMPVkzP9YFQrGcyMZd9ZrUz1vez3WEYoB84Q6bfU0oBmBF7vUgNhSfSNmc/eHi2J5sRM7TjQvF6rE7R7LyYFeGv447c0T8lIxY3mvdlZVQOg+GYqVyIDOXSjL+2D+JglAMkC/cYbOvCcUArMi9HnhBU4XFiDY0tivzL+LO5lDjheKIx+o2tXAYc45hLcdQrJSfmvnKjTBPKAbIF+6w2deEYgBW5F4PYvcUpxO5p7h8JIvXS95p3DZj9jCfevpEofUMFFGhWIfg5aslGbh9oP5X+5lQDNeRL9xhs68JxQCsyL0e5BGKPR9l435Z+lUwDs7trev0QDupnZat3YF2fu/2ZaSvftAdoRggX7jDZl8TigFYkXs9yC0Uax+9cxSPxlyYo/piVwqX9mQt1SnZDmX2UrtTsoWZ8xtf0cGcUAyQL9xhs68JxQCsyL0e5BqKlfoV7SKvRnckxSvZXbyjNRQrJkyPLh0SiuE88oU7bPY1oRiAFbnXg7xDsaIPetPTKCJDaweXeS6+TbjMc1woVqrq8QX1N4ZUOCYUw2XkC3fY7GtCMQArcq8HFkJxfY/w9POoU7Mp2xWZ0pd7ntiT1e2PZq/xJ6luH8rirbIULpRl/nXMY5V2oVhfQETPX/bOikEohsPIF+6w2deEYgBW5FUPyk/0hTBMUIxo/So8xk9pOJJ5FWKjHpc4f9i7T0wAPzmWtaU9mbxcMvcrycXLZZleOIg/rdub2tXrwq9h6EH46nnKdu2qfIRiuIx84Q6bfU0oBmAF9QBAVqgn7rDZ14RiAFZQDwBkhXriDpt9TSgGYEXW9SA81cDltr7ewYVDgHOAfOEOm31NKAZgRdb1ICocutoIxXAN+cIdNvuaUAzACuoBgKxQT9xhs68JxQCsoB4AyAr1xB02+5pQDMAK6gGArFBP3GGzrwnFAKygHgDICvXEHTb7mlAMwArqAYCsUE/cYbOvCcUArKAeAMgK9cQdNvuaUAzACuoBgKxQT9xhs68JxQCsoB4AyAr1xB02+5pQDMAK6gGArFBP3GGzrwnFAKygHgDICvXEHTb7mlAMwArqAYCsUE/cYbOvCcUArKAeAMgK9cQdNvuaUAzACuoBgKxQT9xhs68JxQCsoB4AyAr1xB02+5pQDMAK6gGArFBP3GGzrwnFAKygHgDICvXEHTb7mlAMwArqAYCsUE/cYbOvCcUArKAeAMgK9cQdNvuaUAzACuoBgKxQT9xhs68JxQCsoB4AyAr1xB02+5pQDMAK6gGArFBP3GGzrwnFAKygHgDICvXEHTb7mlAMwArqAYCsUE/cYbOvCcUArMi/HnySnRf7Mj1RkouFkvT1qXahJKPX9mT5zfey87gshesVKZt7R1PPsb4vsxHPsfLue/X772XleknGHx/X7h7l5FjWlvZk8nJJCvrxql28XJbphQPZOTH3CTiWZfX3vL9lWvHdZ/O7pp1H5cB96m3ulblDlPf7MhrxmJY20e5zAboL+cIdNvuaUAzAinzrwUdZu1OS/jEVXt8eS7UePqvHsrG0K8Mq4ParcNs3ti875lctKkdSVOG08HVZ5p4dSblaD6afpfr+QObGSjJ8e1/mfqxC8lLV/C5kuyJTg+p+N/ZlbfujufGTVLcPpXhDPfeFXSm+rd/eamfJBN+k1ylVWVSvpe/Oofm5U4cyq/7G7Lr5EehB5At32OxrQjEAK/KsB+Wnu1K4si9b5uew6us9GUkMmypoXi3J+EMVhs0trY5l9ZZ6DvU8kaF4e1/GVfgefxQTmFW4Lj/flaFCWRa3W/cEa14o/qYkI+p5pp7G7Y0mFAPkC3fY7GtCMQAr8qsH38vKtZIMq0Ab70RWb8aHYi+Mqt/FheqmQ5m7FBWKj2RusCRDKqjGReKaz7JxX72OwT3ZMLf41V/Hmp7qUdiV1Yr5RQChGCBfuMNmXxOKAViRXz04luWr7UKxCpyxc4prQXfmReSE35DoOcXlZ7u1EJuciGuqBzKj9wQ/03OUg+qheMcE36G7USGbUAyQL9xhs68JxQCsyLMeeGHykgql5ehpCYle78lA366snPpIs9qe6oF7aUPqZ9m4p0LttdaA3gzFinpdQyq8zr0OvydCMUC+cIfNviYUA7Ai33pwLKu39YFsJZleqMjG9seIPawxXu5KX9+erJkfO6dCZkH93edp9jQbMX8zEIrlRDbuqvDbMq2DUAyQL9xhs68JxQCsyL8e6LNEHMrywq5MflOSfhX8+gdLMnlz3zsjRRwviJ41FHcaMtf31N9s3TsdDMVK5UBmLunpGv6ITygGyBfusNnXhGIAVtivB5+kWq7KxrN9mVUhsnBZhdCIsz50dShWvDNrBA66IxQD5At32OxrQjEAK75sPaidxzjyrA9eQP0C0ycKra8lKhTrEKwPJBy4fWCmhCSE4jd7MhTxvEGEYvQ+8oU7bPY1oRiAFV+8HlQrMq3DYPgKcO/2ZdjqgXZSOy1buwPt/NRr1OdZrh10lxCKUwV8QjF6H/nCHTb7mlAMwIq86kH1xa4UooJki7gwWJXilZJMPkm4dHMb3mu4pMJoqlOyqddxqd0p2cLM+Y29C5QQigHyhTts9jWhGIAVedWD2pzgXVn+YG6IY/YUz702P/tUX+3JkJ5akSLUVlXwHGr5e0desM7q4h2RAd+E6dGlw7OF4jOfgg748sgX7rDZ14RiAFbkVQ9qoVgF0ltRF+ao+yxbj8pSuBq3R1n9Xj3P8PVKwlXtzGWa1d/Sl4NuCb8dXOa5+DbhMs8Je72r6vEF9TeGVDiODMUq3Ouzbsw8S75EdPRFQYDeQb5wh82+JhQDsCKvelAPxcOXS9I/tieL61WpNo55O5Hy9qEs3yvLxct7shZ52eQ6FYyf7qrn2ZXF18e+0PhJquo5ijdKUlB/Z2opIhDXbVdkSl/ueWJPVhvnSq49fvGWCuUXyjL/+qN3a5R2oVifj1nPX9bvNzIU6+D9Zl8mL9Q+C30qutprUJ/D24rM/kjdPpHmctZAdyNfuMNmXxOKAViRVz3w5vN6e4C/l61nezI1VpKLBRMcVRsa25W5J0cJe5FDykeyos91rEK2DsH6OfoHyzL1oCJbaa6Yd3Isa0t7gcdfvFyW6YUD2Yk7QYU+a4S5r78NPYi4dPX2vozq30eGYiPmNcw96+BzALoY+cIdNvuaUAzACuoBgKxQT9xhs68JxQCsoB4AyAr1xB02+5pQDMCKrOtBeKoB7WztpINrjwBfGvnCHTb7mlAMwIqs60FUsKOdvhGK0UvIF+6w2deEYgBWUA8AZIV64g6bfU0oBmAF9QBAVqgn7rDZ14RiAFZQDwBkhXriDpt9TSgGYAX1AEBWqCfusNnXhGIAVlAPAGSFeuIOm31NKAZgBfUAQFaoJ+6w2deEYgBWUA8AZIV64g6bfU0oBmAF9QBAVqgn7rDZ14RiAFZQDwBkhXriDpt9TSgGYAX1AEBWqCfusNnXVkIxjUaj0Wg0Go122mYDoZhGo9FoNBqN1tXNhlxDMQAAANALCMUAAABwHqEYAAAAziMUAwAAwHmEYgAAADiPUAwAAADnEYoBAADgPEIxAAAAnEcoBgAAgPMIxQAAAHAeoRgAAADOIxQDAADAeYRiAAAAOI9QDAAAAMeJ/P+FiAMrEX5GhAAAAABJRU5ErkJggg==)\n",
    "\n",
    "https://universaldependencies.org/u/pos/all.html#al-u-pos/PROPN"
   ]
  },
  {
   "cell_type": "code",
   "execution_count": null,
   "metadata": {
    "id": "tLvEKthDr2do"
   },
   "outputs": [],
   "source": [
    "BATCH_SIZE = 32\n",
    "\n",
    "device = torch.device('cuda' if torch.cuda.is_available() else 'cpu')\n",
    "\n",
    "train_iterator, valid_iterator, test_iterator = data.BucketIterator.splits((train_data, valid_data, test_data),\n",
    "                                                                          batch_size = BATCH_SIZE,\n",
    "                                                                          device = device)"
   ]
  },
  {
   "cell_type": "code",
   "execution_count": null,
   "metadata": {
    "id": "8amLqfGDr2dp"
   },
   "outputs": [],
   "source": [
    "class BERTPoSTagger(nn.Module):\n",
    "    def __init__(self, bert, output_dim, dropout):      \n",
    "        super().__init__()    \n",
    "        self.bert = bert       \n",
    "        embedding_dim = bert.config.to_dict()['hidden_size']  # bert.config.to_dict() : dict화  \n",
    "        self.fc = nn.Linear(embedding_dim, output_dim)     \n",
    "        self.dropout = nn.Dropout(dropout)\n",
    "        \n",
    "    def forward(self, text):\n",
    "        # print(text.shape) : torch.Size([46, 32]) [text_length, batch_size]\n",
    "        text = text.permute(1, 0)\n",
    "        # premute(1, 0) : 1 ↔ 0 차원 바꿈\n",
    "        # print(text.shape) : torch.Size([32, 46])\n",
    "        \n",
    "        # print(self.bert(text)[0].shape) : torch.Size([32, 30, 768]) [batch_size, text_length, 'bert-base-uncased'의 hidden layer]\n",
    "        embedded = self.dropout(self.bert(text)[0])\n",
    "        # print(embedded.shape) : torch.Size([32, 46, 768]) [batch_size, text_lengths, 'bert-base-uncased'의 hidden layer]\n",
    "\n",
    "        embedded = embedded.permute(1, 0, 2)\n",
    "        # permute(1, 0, 2) : 0 ↔ 1 차원바꾸고 2차원은 그대로\n",
    "        # print(embedded.shape) : torch.Size([46, 32, 768])\n",
    "        \n",
    "        predictions = self.fc(self.dropout(embedded))\n",
    "        # print(predictions.shape) : torch.Size([43, 32, 18]) [text_length, batch_size, len(UD_TAGS.vocab) == output_dim]\n",
    "        \n",
    "        return predictions"
   ]
  },
  {
   "cell_type": "code",
   "execution_count": null,
   "metadata": {
    "colab": {
     "base_uri": "https://localhost:8080/",
     "height": 116,
     "referenced_widgets": [
      "79532b69bac948eba2eb6e8a6f7832b7",
      "005f8b29815346168089a26ba90d4615",
      "c1cb3242ffbe46dea88146a022f8b262",
      "be3d984beca648529ca308a1cc7d256f",
      "f6d50f6e87d34b52ad485625a7aa8532",
      "00834aed2032455cade3cdfa2e9b5129",
      "0626e576143043fdba62b23c52e74528",
      "cdfe636a7c19478baf4928fb995ed22b",
      "bca1fac451f6495aa632f3678470c2fa",
      "6646c97b276342ef97e22b48640ac45f",
      "d2079902f4c7408abc78da36ee9d0c4d",
      "b8c3b46e36a146b5892b88f8e1abf95c",
      "917f1a63d95749b986dc1dc9a2690b69",
      "e086dc7ab35f41d8bd9cd598897b5a23",
      "876036d4ffb948fbbc59f2b90a0a982c",
      "f2c9c464c6de4606ac066746349b139f"
     ]
    },
    "id": "7uFuBQksr2dp",
    "outputId": "113b83c0-4866-41b7-ad1c-292280d8cdc1"
   },
   "outputs": [],
   "source": [
    "bert = BertModel.from_pretrained('bert-base-uncased')"
   ]
  },
  {
   "cell_type": "code",
   "execution_count": null,
   "metadata": {
    "id": "MkTXdf2Zr2dp"
   },
   "outputs": [],
   "source": [
    "OUTPUT_DIM = len(UD_TAGS.vocab)\n",
    "DROPOUT = 0.25\n",
    "\n",
    "model = BERTPoSTagger(bert,\n",
    "                      OUTPUT_DIM, \n",
    "                      DROPOUT)"
   ]
  },
  {
   "cell_type": "code",
   "execution_count": null,
   "metadata": {
    "colab": {
     "base_uri": "https://localhost:8080/"
    },
    "id": "FD_IAFt0r2dp",
    "outputId": "caeadcb7-a765-460b-b90f-d5e7c92a8a58"
   },
   "outputs": [],
   "source": [
    "def count_parameters(model):\n",
    "    return sum(p.numel() for p in model.parameters() if p.requires_grad)\n",
    "\n",
    "print(f'The model has {count_parameters(model):,} trainable parameters')"
   ]
  },
  {
   "cell_type": "code",
   "execution_count": null,
   "metadata": {
    "id": "lNtaY6akr2dp"
   },
   "outputs": [],
   "source": [
    "LEARNING_RATE = 5e-5\n",
    "\n",
    "optimizer = optim.Adam(model.parameters(), lr = LEARNING_RATE)"
   ]
  },
  {
   "cell_type": "code",
   "execution_count": null,
   "metadata": {
    "id": "sY3kHxcCr2dp"
   },
   "outputs": [],
   "source": [
    "TAG_PAD_IDX = UD_TAGS.vocab.stoi[UD_TAGS.pad_token]\n",
    "\n",
    "criterion = nn.CrossEntropyLoss(ignore_index = TAG_PAD_IDX)"
   ]
  },
  {
   "cell_type": "code",
   "execution_count": null,
   "metadata": {
    "id": "8MudSqqor2dq"
   },
   "outputs": [],
   "source": [
    "model = model.to(device)\n",
    "criterion = criterion.to(device)"
   ]
  },
  {
   "cell_type": "code",
   "execution_count": null,
   "metadata": {
    "id": "5fUn-XXlr2dq"
   },
   "outputs": [],
   "source": [
    "def categorical_accuracy(preds, y, tag_pad_idx):\n",
    "    \"\"\"\n",
    "    Returns accuracy per batch, i.e. if you get 8/10 right, this returns 0.8, NOT 8\n",
    "    \"\"\"\n",
    "    max_preds = preds.argmax(dim = 1, keepdim = True) # get the index of the max probability\n",
    "    non_pad_elements = (y != tag_pad_idx).nonzero()\n",
    "    correct = max_preds[non_pad_elements].squeeze(1).eq(y[non_pad_elements])\n",
    "    return correct.sum() / torch.FloatTensor([y[non_pad_elements].shape[0]]).to(device)"
   ]
  },
  {
   "cell_type": "code",
   "execution_count": null,
   "metadata": {
    "id": "fKYBTQyar2dq"
   },
   "outputs": [],
   "source": [
    "def train(model, iterator, optimizer, criterion, tag_pad_idx):\n",
    "    \n",
    "    epoch_loss = 0\n",
    "    epoch_acc = 0\n",
    "    \n",
    "    model.train()\n",
    "    \n",
    "    for batch in iterator:\n",
    "        \n",
    "        text = batch.text\n",
    "        tags = batch.udtags\n",
    "                \n",
    "        optimizer.zero_grad()\n",
    "        \n",
    "        #text = [sent len, batch size]\n",
    "        \n",
    "        predictions = model(text)\n",
    "        \n",
    "        #predictions = [sent len, batch size, output dim]\n",
    "        #tags = [sent len, batch size]\n",
    "        \n",
    "        predictions = predictions.view(-1, predictions.shape[-1])\n",
    "        tags = tags.view(-1)\n",
    "        \n",
    "        #predictions = [sent len * batch size, output dim]\n",
    "        #tags = [sent len * batch size]\n",
    "        \n",
    "        loss = criterion(predictions, tags)\n",
    "                \n",
    "        acc = categorical_accuracy(predictions, tags, tag_pad_idx)\n",
    "        \n",
    "        loss.backward()\n",
    "        \n",
    "        optimizer.step()\n",
    "        \n",
    "        epoch_loss += loss.item()\n",
    "        epoch_acc += acc.item()\n",
    "        \n",
    "    return epoch_loss / len(iterator), epoch_acc / len(iterator)"
   ]
  },
  {
   "cell_type": "code",
   "execution_count": null,
   "metadata": {
    "id": "f-xVPk-fr2dq"
   },
   "outputs": [],
   "source": [
    "def evaluate(model, iterator, criterion, tag_pad_idx):\n",
    "    \n",
    "    epoch_loss = 0\n",
    "    epoch_acc = 0\n",
    "    \n",
    "    model.eval()\n",
    "    \n",
    "    with torch.no_grad():\n",
    "    \n",
    "        for batch in iterator:\n",
    "\n",
    "            text = batch.text\n",
    "            tags = batch.udtags\n",
    "            \n",
    "            predictions = model(text)\n",
    "            \n",
    "            predictions = predictions.view(-1, predictions.shape[-1])\n",
    "            tags = tags.view(-1)\n",
    "            \n",
    "            loss = criterion(predictions, tags)\n",
    "            \n",
    "            acc = categorical_accuracy(predictions, tags, tag_pad_idx)\n",
    "\n",
    "            epoch_loss += loss.item()\n",
    "            epoch_acc += acc.item()\n",
    "        \n",
    "    return epoch_loss / len(iterator), epoch_acc / len(iterator)"
   ]
  },
  {
   "cell_type": "code",
   "execution_count": null,
   "metadata": {
    "id": "1uqOKSH1r2dr"
   },
   "outputs": [],
   "source": [
    "def epoch_time(start_time, end_time):\n",
    "    elapsed_time = end_time - start_time\n",
    "    elapsed_mins = int(elapsed_time / 60)\n",
    "    elapsed_secs = int(elapsed_time - (elapsed_mins * 60))\n",
    "    return elapsed_mins, elapsed_secs"
   ]
  },
  {
   "cell_type": "code",
   "execution_count": null,
   "metadata": {
    "colab": {
     "base_uri": "https://localhost:8080/",
     "height": 472
    },
    "id": "yBk5PAAPr2dr",
    "outputId": "deb68adc-1cac-4768-9d5a-30ebcb9084f5"
   },
   "outputs": [],
   "source": [
    "N_EPOCHS = 10\n",
    "\n",
    "best_valid_loss = float('inf')\n",
    "\n",
    "for epoch in range(N_EPOCHS):\n",
    "\n",
    "    start_time = time.time()\n",
    "    \n",
    "    train_loss, train_acc = train(model, train_iterator, optimizer, criterion, TAG_PAD_IDX)\n",
    "    valid_loss, valid_acc = evaluate(model, valid_iterator, criterion, TAG_PAD_IDX)\n",
    "    \n",
    "    end_time = time.time()\n",
    "\n",
    "    epoch_mins, epoch_secs = epoch_time(start_time, end_time)\n",
    "    \n",
    "    if valid_loss < best_valid_loss:\n",
    "        best_valid_loss = valid_loss\n",
    "        torch.save(model.state_dict(), 'tut2-model.pt')\n",
    "    \n",
    "    print(f'Epoch: {epoch+1:02} | Epoch Time: {epoch_mins}m {epoch_secs}s')\n",
    "    print(f'\\tTrain Loss: {train_loss:.3f} | Train Acc: {train_acc*100:.2f}%')\n",
    "    print(f'\\t Val. Loss: {valid_loss:.3f} |  Val. Acc: {valid_acc*100:.2f}%')"
   ]
  },
  {
   "cell_type": "code",
   "execution_count": null,
   "metadata": {
    "id": "B6ESvwQtr2dr"
   },
   "outputs": [],
   "source": [
    "model.load_state_dict(torch.load('tut2-model.pt'))\n",
    "\n",
    "test_loss, test_acc = evaluate(model, test_iterator, criterion, TAG_PAD_IDX)\n",
    "\n",
    "print(f'Test Loss: {test_loss:.3f} | Test Acc: {test_acc*100:.2f}%')"
   ]
  },
  {
   "cell_type": "code",
   "execution_count": null,
   "metadata": {
    "id": "jQQ_1idVr2dr"
   },
   "outputs": [],
   "source": [
    "def tag_sentence(model, device, sentence, tokenizer, text_field, tag_field):\n",
    "    \n",
    "    model.eval()\n",
    "    \n",
    "    if isinstance(sentence, str):\n",
    "        tokens = tokenizer.tokenize(sentence)\n",
    "    else:\n",
    "        tokens = sentence\n",
    "    \n",
    "    numericalized_tokens = tokenizer.convert_tokens_to_ids(tokens)\n",
    "    numericalized_tokens = [text_field.init_token] + numericalized_tokens\n",
    "        \n",
    "    unk_idx = text_field.unk_token\n",
    "    \n",
    "    unks = [t for t, n in zip(tokens, numericalized_tokens) if n == unk_idx]\n",
    "    \n",
    "    token_tensor = torch.LongTensor(numericalized_tokens)\n",
    "    \n",
    "    token_tensor = token_tensor.unsqueeze(-1).to(device)\n",
    "         \n",
    "    predictions = model(token_tensor)\n",
    "    \n",
    "    top_predictions = predictions.argmax(-1)\n",
    "    \n",
    "    predicted_tags = [tag_field.vocab.itos[t.item()] for t in top_predictions]\n",
    "    \n",
    "    predicted_tags = predicted_tags[1:]\n",
    "        \n",
    "    assert len(tokens) == len(predicted_tags)\n",
    "    \n",
    "    return tokens, predicted_tags, unks"
   ]
  },
  {
   "cell_type": "code",
   "execution_count": null,
   "metadata": {
    "id": "OpDsAOd3r2ds"
   },
   "outputs": [],
   "source": [
    "sentence = 'The Queen will deliver a speech about the conflict in North Korea at 1pm tomorrow.'\n",
    "\n",
    "tokens, tags, unks = tag_sentence(model, \n",
    "                                  device, \n",
    "                                  sentence,\n",
    "                                  tokenizer,\n",
    "                                  TEXT, \n",
    "                                  UD_TAGS)\n",
    "\n",
    "print(unks)"
   ]
  },
  {
   "cell_type": "code",
   "execution_count": null,
   "metadata": {
    "id": "GJBJsWd8r2ds"
   },
   "outputs": [],
   "source": [
    "print(\"Pred. Tag\\tToken\\n\")\n",
    "\n",
    "for token, tag in zip(tokens, tags):\n",
    "    print(f\"{tag}\\t\\t{token}\")"
   ]
  },
  {
   "cell_type": "code",
   "execution_count": null,
   "metadata": {
    "id": "ih8Ip-jEr2ds"
   },
   "outputs": [],
   "source": []
  }
 ],
 "metadata": {
  "accelerator": "GPU",
  "colab": {
   "name": "Fine-tuning Pretrained Transformers for PoS Tagging.ipynb",
   "provenance": []
  },
  "kernelspec": {
   "display_name": "Python 3",
   "language": "python",
   "name": "python3"
  },
  "language_info": {
   "codemirror_mode": {
    "name": "ipython",
    "version": 3
   },
   "file_extension": ".py",
   "mimetype": "text/x-python",
   "name": "python",
   "nbconvert_exporter": "python",
   "pygments_lexer": "ipython3",
   "version": "3.8.5"
  },
  "widgets": {
   "application/vnd.jupyter.widget-state+json": {
    "005f8b29815346168089a26ba90d4615": {
     "model_module": "@jupyter-widgets/base",
     "model_name": "LayoutModel",
     "state": {
      "_model_module": "@jupyter-widgets/base",
      "_model_module_version": "1.2.0",
      "_model_name": "LayoutModel",
      "_view_count": null,
      "_view_module": "@jupyter-widgets/base",
      "_view_module_version": "1.2.0",
      "_view_name": "LayoutView",
      "align_content": null,
      "align_items": null,
      "align_self": null,
      "border": null,
      "bottom": null,
      "display": null,
      "flex": null,
      "flex_flow": null,
      "grid_area": null,
      "grid_auto_columns": null,
      "grid_auto_flow": null,
      "grid_auto_rows": null,
      "grid_column": null,
      "grid_gap": null,
      "grid_row": null,
      "grid_template_areas": null,
      "grid_template_columns": null,
      "grid_template_rows": null,
      "height": null,
      "justify_content": null,
      "justify_items": null,
      "left": null,
      "margin": null,
      "max_height": null,
      "max_width": null,
      "min_height": null,
      "min_width": null,
      "object_fit": null,
      "object_position": null,
      "order": null,
      "overflow": null,
      "overflow_x": null,
      "overflow_y": null,
      "padding": null,
      "right": null,
      "top": null,
      "visibility": null,
      "width": null
     }
    },
    "00834aed2032455cade3cdfa2e9b5129": {
     "model_module": "@jupyter-widgets/base",
     "model_name": "LayoutModel",
     "state": {
      "_model_module": "@jupyter-widgets/base",
      "_model_module_version": "1.2.0",
      "_model_name": "LayoutModel",
      "_view_count": null,
      "_view_module": "@jupyter-widgets/base",
      "_view_module_version": "1.2.0",
      "_view_name": "LayoutView",
      "align_content": null,
      "align_items": null,
      "align_self": null,
      "border": null,
      "bottom": null,
      "display": null,
      "flex": null,
      "flex_flow": null,
      "grid_area": null,
      "grid_auto_columns": null,
      "grid_auto_flow": null,
      "grid_auto_rows": null,
      "grid_column": null,
      "grid_gap": null,
      "grid_row": null,
      "grid_template_areas": null,
      "grid_template_columns": null,
      "grid_template_rows": null,
      "height": null,
      "justify_content": null,
      "justify_items": null,
      "left": null,
      "margin": null,
      "max_height": null,
      "max_width": null,
      "min_height": null,
      "min_width": null,
      "object_fit": null,
      "object_position": null,
      "order": null,
      "overflow": null,
      "overflow_x": null,
      "overflow_y": null,
      "padding": null,
      "right": null,
      "top": null,
      "visibility": null,
      "width": null
     }
    },
    "0626e576143043fdba62b23c52e74528": {
     "model_module": "@jupyter-widgets/controls",
     "model_name": "DescriptionStyleModel",
     "state": {
      "_model_module": "@jupyter-widgets/controls",
      "_model_module_version": "1.5.0",
      "_model_name": "DescriptionStyleModel",
      "_view_count": null,
      "_view_module": "@jupyter-widgets/base",
      "_view_module_version": "1.2.0",
      "_view_name": "StyleView",
      "description_width": ""
     }
    },
    "46ff5da58d464f0aaf42880e7f1185a4": {
     "model_module": "@jupyter-widgets/controls",
     "model_name": "FloatProgressModel",
     "state": {
      "_dom_classes": [],
      "_model_module": "@jupyter-widgets/controls",
      "_model_module_version": "1.5.0",
      "_model_name": "FloatProgressModel",
      "_view_count": null,
      "_view_module": "@jupyter-widgets/controls",
      "_view_module_version": "1.5.0",
      "_view_name": "ProgressView",
      "bar_style": "success",
      "description": "Downloading: 100%",
      "description_tooltip": null,
      "layout": "IPY_MODEL_88b3bfceb28a458487d2c917940c05c9",
      "max": 231508,
      "min": 0,
      "orientation": "horizontal",
      "style": "IPY_MODEL_a8f5be6c7c334fbcb1181fe15e59c7bb",
      "value": 231508
     }
    },
    "5e35c1a3a0f94f3b8747638bf0467c1f": {
     "model_module": "@jupyter-widgets/controls",
     "model_name": "HBoxModel",
     "state": {
      "_dom_classes": [],
      "_model_module": "@jupyter-widgets/controls",
      "_model_module_version": "1.5.0",
      "_model_name": "HBoxModel",
      "_view_count": null,
      "_view_module": "@jupyter-widgets/controls",
      "_view_module_version": "1.5.0",
      "_view_name": "HBoxView",
      "box_style": "",
      "children": [
       "IPY_MODEL_46ff5da58d464f0aaf42880e7f1185a4",
       "IPY_MODEL_c8578292b26143f2bc1e4cfe137e4a0d"
      ],
      "layout": "IPY_MODEL_a0f49b0c5dd649ae9f27b8f5e0c05071"
     }
    },
    "6646c97b276342ef97e22b48640ac45f": {
     "model_module": "@jupyter-widgets/base",
     "model_name": "LayoutModel",
     "state": {
      "_model_module": "@jupyter-widgets/base",
      "_model_module_version": "1.2.0",
      "_model_name": "LayoutModel",
      "_view_count": null,
      "_view_module": "@jupyter-widgets/base",
      "_view_module_version": "1.2.0",
      "_view_name": "LayoutView",
      "align_content": null,
      "align_items": null,
      "align_self": null,
      "border": null,
      "bottom": null,
      "display": null,
      "flex": null,
      "flex_flow": null,
      "grid_area": null,
      "grid_auto_columns": null,
      "grid_auto_flow": null,
      "grid_auto_rows": null,
      "grid_column": null,
      "grid_gap": null,
      "grid_row": null,
      "grid_template_areas": null,
      "grid_template_columns": null,
      "grid_template_rows": null,
      "height": null,
      "justify_content": null,
      "justify_items": null,
      "left": null,
      "margin": null,
      "max_height": null,
      "max_width": null,
      "min_height": null,
      "min_width": null,
      "object_fit": null,
      "object_position": null,
      "order": null,
      "overflow": null,
      "overflow_x": null,
      "overflow_y": null,
      "padding": null,
      "right": null,
      "top": null,
      "visibility": null,
      "width": null
     }
    },
    "79532b69bac948eba2eb6e8a6f7832b7": {
     "model_module": "@jupyter-widgets/controls",
     "model_name": "HBoxModel",
     "state": {
      "_dom_classes": [],
      "_model_module": "@jupyter-widgets/controls",
      "_model_module_version": "1.5.0",
      "_model_name": "HBoxModel",
      "_view_count": null,
      "_view_module": "@jupyter-widgets/controls",
      "_view_module_version": "1.5.0",
      "_view_name": "HBoxView",
      "box_style": "",
      "children": [
       "IPY_MODEL_c1cb3242ffbe46dea88146a022f8b262",
       "IPY_MODEL_be3d984beca648529ca308a1cc7d256f"
      ],
      "layout": "IPY_MODEL_005f8b29815346168089a26ba90d4615"
     }
    },
    "876036d4ffb948fbbc59f2b90a0a982c": {
     "model_module": "@jupyter-widgets/controls",
     "model_name": "DescriptionStyleModel",
     "state": {
      "_model_module": "@jupyter-widgets/controls",
      "_model_module_version": "1.5.0",
      "_model_name": "DescriptionStyleModel",
      "_view_count": null,
      "_view_module": "@jupyter-widgets/base",
      "_view_module_version": "1.2.0",
      "_view_name": "StyleView",
      "description_width": ""
     }
    },
    "88b3bfceb28a458487d2c917940c05c9": {
     "model_module": "@jupyter-widgets/base",
     "model_name": "LayoutModel",
     "state": {
      "_model_module": "@jupyter-widgets/base",
      "_model_module_version": "1.2.0",
      "_model_name": "LayoutModel",
      "_view_count": null,
      "_view_module": "@jupyter-widgets/base",
      "_view_module_version": "1.2.0",
      "_view_name": "LayoutView",
      "align_content": null,
      "align_items": null,
      "align_self": null,
      "border": null,
      "bottom": null,
      "display": null,
      "flex": null,
      "flex_flow": null,
      "grid_area": null,
      "grid_auto_columns": null,
      "grid_auto_flow": null,
      "grid_auto_rows": null,
      "grid_column": null,
      "grid_gap": null,
      "grid_row": null,
      "grid_template_areas": null,
      "grid_template_columns": null,
      "grid_template_rows": null,
      "height": null,
      "justify_content": null,
      "justify_items": null,
      "left": null,
      "margin": null,
      "max_height": null,
      "max_width": null,
      "min_height": null,
      "min_width": null,
      "object_fit": null,
      "object_position": null,
      "order": null,
      "overflow": null,
      "overflow_x": null,
      "overflow_y": null,
      "padding": null,
      "right": null,
      "top": null,
      "visibility": null,
      "width": null
     }
    },
    "917f1a63d95749b986dc1dc9a2690b69": {
     "model_module": "@jupyter-widgets/controls",
     "model_name": "ProgressStyleModel",
     "state": {
      "_model_module": "@jupyter-widgets/controls",
      "_model_module_version": "1.5.0",
      "_model_name": "ProgressStyleModel",
      "_view_count": null,
      "_view_module": "@jupyter-widgets/base",
      "_view_module_version": "1.2.0",
      "_view_name": "StyleView",
      "bar_color": null,
      "description_width": "initial"
     }
    },
    "a0f49b0c5dd649ae9f27b8f5e0c05071": {
     "model_module": "@jupyter-widgets/base",
     "model_name": "LayoutModel",
     "state": {
      "_model_module": "@jupyter-widgets/base",
      "_model_module_version": "1.2.0",
      "_model_name": "LayoutModel",
      "_view_count": null,
      "_view_module": "@jupyter-widgets/base",
      "_view_module_version": "1.2.0",
      "_view_name": "LayoutView",
      "align_content": null,
      "align_items": null,
      "align_self": null,
      "border": null,
      "bottom": null,
      "display": null,
      "flex": null,
      "flex_flow": null,
      "grid_area": null,
      "grid_auto_columns": null,
      "grid_auto_flow": null,
      "grid_auto_rows": null,
      "grid_column": null,
      "grid_gap": null,
      "grid_row": null,
      "grid_template_areas": null,
      "grid_template_columns": null,
      "grid_template_rows": null,
      "height": null,
      "justify_content": null,
      "justify_items": null,
      "left": null,
      "margin": null,
      "max_height": null,
      "max_width": null,
      "min_height": null,
      "min_width": null,
      "object_fit": null,
      "object_position": null,
      "order": null,
      "overflow": null,
      "overflow_x": null,
      "overflow_y": null,
      "padding": null,
      "right": null,
      "top": null,
      "visibility": null,
      "width": null
     }
    },
    "a8f5be6c7c334fbcb1181fe15e59c7bb": {
     "model_module": "@jupyter-widgets/controls",
     "model_name": "ProgressStyleModel",
     "state": {
      "_model_module": "@jupyter-widgets/controls",
      "_model_module_version": "1.5.0",
      "_model_name": "ProgressStyleModel",
      "_view_count": null,
      "_view_module": "@jupyter-widgets/base",
      "_view_module_version": "1.2.0",
      "_view_name": "StyleView",
      "bar_color": null,
      "description_width": "initial"
     }
    },
    "b8c3b46e36a146b5892b88f8e1abf95c": {
     "model_module": "@jupyter-widgets/controls",
     "model_name": "HTMLModel",
     "state": {
      "_dom_classes": [],
      "_model_module": "@jupyter-widgets/controls",
      "_model_module_version": "1.5.0",
      "_model_name": "HTMLModel",
      "_view_count": null,
      "_view_module": "@jupyter-widgets/controls",
      "_view_module_version": "1.5.0",
      "_view_name": "HTMLView",
      "description": "",
      "description_tooltip": null,
      "layout": "IPY_MODEL_f2c9c464c6de4606ac066746349b139f",
      "placeholder": "​",
      "style": "IPY_MODEL_876036d4ffb948fbbc59f2b90a0a982c",
      "value": " 440M/440M [06:53&lt;00:00, 1.07MB/s]"
     }
    },
    "bca1fac451f6495aa632f3678470c2fa": {
     "model_module": "@jupyter-widgets/controls",
     "model_name": "HBoxModel",
     "state": {
      "_dom_classes": [],
      "_model_module": "@jupyter-widgets/controls",
      "_model_module_version": "1.5.0",
      "_model_name": "HBoxModel",
      "_view_count": null,
      "_view_module": "@jupyter-widgets/controls",
      "_view_module_version": "1.5.0",
      "_view_name": "HBoxView",
      "box_style": "",
      "children": [
       "IPY_MODEL_d2079902f4c7408abc78da36ee9d0c4d",
       "IPY_MODEL_b8c3b46e36a146b5892b88f8e1abf95c"
      ],
      "layout": "IPY_MODEL_6646c97b276342ef97e22b48640ac45f"
     }
    },
    "be3d984beca648529ca308a1cc7d256f": {
     "model_module": "@jupyter-widgets/controls",
     "model_name": "HTMLModel",
     "state": {
      "_dom_classes": [],
      "_model_module": "@jupyter-widgets/controls",
      "_model_module_version": "1.5.0",
      "_model_name": "HTMLModel",
      "_view_count": null,
      "_view_module": "@jupyter-widgets/controls",
      "_view_module_version": "1.5.0",
      "_view_name": "HTMLView",
      "description": "",
      "description_tooltip": null,
      "layout": "IPY_MODEL_cdfe636a7c19478baf4928fb995ed22b",
      "placeholder": "​",
      "style": "IPY_MODEL_0626e576143043fdba62b23c52e74528",
      "value": " 433/433 [00:00&lt;00:00, 1.59kB/s]"
     }
    },
    "c1cb3242ffbe46dea88146a022f8b262": {
     "model_module": "@jupyter-widgets/controls",
     "model_name": "FloatProgressModel",
     "state": {
      "_dom_classes": [],
      "_model_module": "@jupyter-widgets/controls",
      "_model_module_version": "1.5.0",
      "_model_name": "FloatProgressModel",
      "_view_count": null,
      "_view_module": "@jupyter-widgets/controls",
      "_view_module_version": "1.5.0",
      "_view_name": "ProgressView",
      "bar_style": "success",
      "description": "Downloading: 100%",
      "description_tooltip": null,
      "layout": "IPY_MODEL_00834aed2032455cade3cdfa2e9b5129",
      "max": 433,
      "min": 0,
      "orientation": "horizontal",
      "style": "IPY_MODEL_f6d50f6e87d34b52ad485625a7aa8532",
      "value": 433
     }
    },
    "c8578292b26143f2bc1e4cfe137e4a0d": {
     "model_module": "@jupyter-widgets/controls",
     "model_name": "HTMLModel",
     "state": {
      "_dom_classes": [],
      "_model_module": "@jupyter-widgets/controls",
      "_model_module_version": "1.5.0",
      "_model_name": "HTMLModel",
      "_view_count": null,
      "_view_module": "@jupyter-widgets/controls",
      "_view_module_version": "1.5.0",
      "_view_name": "HTMLView",
      "description": "",
      "description_tooltip": null,
      "layout": "IPY_MODEL_dd479dbbceda47068a999c5506baaaea",
      "placeholder": "​",
      "style": "IPY_MODEL_ccb82404d4104839ab6bf982a52c1e15",
      "value": " 232k/232k [00:00&lt;00:00, 3.38MB/s]"
     }
    },
    "ccb82404d4104839ab6bf982a52c1e15": {
     "model_module": "@jupyter-widgets/controls",
     "model_name": "DescriptionStyleModel",
     "state": {
      "_model_module": "@jupyter-widgets/controls",
      "_model_module_version": "1.5.0",
      "_model_name": "DescriptionStyleModel",
      "_view_count": null,
      "_view_module": "@jupyter-widgets/base",
      "_view_module_version": "1.2.0",
      "_view_name": "StyleView",
      "description_width": ""
     }
    },
    "cdfe636a7c19478baf4928fb995ed22b": {
     "model_module": "@jupyter-widgets/base",
     "model_name": "LayoutModel",
     "state": {
      "_model_module": "@jupyter-widgets/base",
      "_model_module_version": "1.2.0",
      "_model_name": "LayoutModel",
      "_view_count": null,
      "_view_module": "@jupyter-widgets/base",
      "_view_module_version": "1.2.0",
      "_view_name": "LayoutView",
      "align_content": null,
      "align_items": null,
      "align_self": null,
      "border": null,
      "bottom": null,
      "display": null,
      "flex": null,
      "flex_flow": null,
      "grid_area": null,
      "grid_auto_columns": null,
      "grid_auto_flow": null,
      "grid_auto_rows": null,
      "grid_column": null,
      "grid_gap": null,
      "grid_row": null,
      "grid_template_areas": null,
      "grid_template_columns": null,
      "grid_template_rows": null,
      "height": null,
      "justify_content": null,
      "justify_items": null,
      "left": null,
      "margin": null,
      "max_height": null,
      "max_width": null,
      "min_height": null,
      "min_width": null,
      "object_fit": null,
      "object_position": null,
      "order": null,
      "overflow": null,
      "overflow_x": null,
      "overflow_y": null,
      "padding": null,
      "right": null,
      "top": null,
      "visibility": null,
      "width": null
     }
    },
    "d2079902f4c7408abc78da36ee9d0c4d": {
     "model_module": "@jupyter-widgets/controls",
     "model_name": "FloatProgressModel",
     "state": {
      "_dom_classes": [],
      "_model_module": "@jupyter-widgets/controls",
      "_model_module_version": "1.5.0",
      "_model_name": "FloatProgressModel",
      "_view_count": null,
      "_view_module": "@jupyter-widgets/controls",
      "_view_module_version": "1.5.0",
      "_view_name": "ProgressView",
      "bar_style": "success",
      "description": "Downloading: 100%",
      "description_tooltip": null,
      "layout": "IPY_MODEL_e086dc7ab35f41d8bd9cd598897b5a23",
      "max": 440473133,
      "min": 0,
      "orientation": "horizontal",
      "style": "IPY_MODEL_917f1a63d95749b986dc1dc9a2690b69",
      "value": 440473133
     }
    },
    "dd479dbbceda47068a999c5506baaaea": {
     "model_module": "@jupyter-widgets/base",
     "model_name": "LayoutModel",
     "state": {
      "_model_module": "@jupyter-widgets/base",
      "_model_module_version": "1.2.0",
      "_model_name": "LayoutModel",
      "_view_count": null,
      "_view_module": "@jupyter-widgets/base",
      "_view_module_version": "1.2.0",
      "_view_name": "LayoutView",
      "align_content": null,
      "align_items": null,
      "align_self": null,
      "border": null,
      "bottom": null,
      "display": null,
      "flex": null,
      "flex_flow": null,
      "grid_area": null,
      "grid_auto_columns": null,
      "grid_auto_flow": null,
      "grid_auto_rows": null,
      "grid_column": null,
      "grid_gap": null,
      "grid_row": null,
      "grid_template_areas": null,
      "grid_template_columns": null,
      "grid_template_rows": null,
      "height": null,
      "justify_content": null,
      "justify_items": null,
      "left": null,
      "margin": null,
      "max_height": null,
      "max_width": null,
      "min_height": null,
      "min_width": null,
      "object_fit": null,
      "object_position": null,
      "order": null,
      "overflow": null,
      "overflow_x": null,
      "overflow_y": null,
      "padding": null,
      "right": null,
      "top": null,
      "visibility": null,
      "width": null
     }
    },
    "e086dc7ab35f41d8bd9cd598897b5a23": {
     "model_module": "@jupyter-widgets/base",
     "model_name": "LayoutModel",
     "state": {
      "_model_module": "@jupyter-widgets/base",
      "_model_module_version": "1.2.0",
      "_model_name": "LayoutModel",
      "_view_count": null,
      "_view_module": "@jupyter-widgets/base",
      "_view_module_version": "1.2.0",
      "_view_name": "LayoutView",
      "align_content": null,
      "align_items": null,
      "align_self": null,
      "border": null,
      "bottom": null,
      "display": null,
      "flex": null,
      "flex_flow": null,
      "grid_area": null,
      "grid_auto_columns": null,
      "grid_auto_flow": null,
      "grid_auto_rows": null,
      "grid_column": null,
      "grid_gap": null,
      "grid_row": null,
      "grid_template_areas": null,
      "grid_template_columns": null,
      "grid_template_rows": null,
      "height": null,
      "justify_content": null,
      "justify_items": null,
      "left": null,
      "margin": null,
      "max_height": null,
      "max_width": null,
      "min_height": null,
      "min_width": null,
      "object_fit": null,
      "object_position": null,
      "order": null,
      "overflow": null,
      "overflow_x": null,
      "overflow_y": null,
      "padding": null,
      "right": null,
      "top": null,
      "visibility": null,
      "width": null
     }
    },
    "f2c9c464c6de4606ac066746349b139f": {
     "model_module": "@jupyter-widgets/base",
     "model_name": "LayoutModel",
     "state": {
      "_model_module": "@jupyter-widgets/base",
      "_model_module_version": "1.2.0",
      "_model_name": "LayoutModel",
      "_view_count": null,
      "_view_module": "@jupyter-widgets/base",
      "_view_module_version": "1.2.0",
      "_view_name": "LayoutView",
      "align_content": null,
      "align_items": null,
      "align_self": null,
      "border": null,
      "bottom": null,
      "display": null,
      "flex": null,
      "flex_flow": null,
      "grid_area": null,
      "grid_auto_columns": null,
      "grid_auto_flow": null,
      "grid_auto_rows": null,
      "grid_column": null,
      "grid_gap": null,
      "grid_row": null,
      "grid_template_areas": null,
      "grid_template_columns": null,
      "grid_template_rows": null,
      "height": null,
      "justify_content": null,
      "justify_items": null,
      "left": null,
      "margin": null,
      "max_height": null,
      "max_width": null,
      "min_height": null,
      "min_width": null,
      "object_fit": null,
      "object_position": null,
      "order": null,
      "overflow": null,
      "overflow_x": null,
      "overflow_y": null,
      "padding": null,
      "right": null,
      "top": null,
      "visibility": null,
      "width": null
     }
    },
    "f6d50f6e87d34b52ad485625a7aa8532": {
     "model_module": "@jupyter-widgets/controls",
     "model_name": "ProgressStyleModel",
     "state": {
      "_model_module": "@jupyter-widgets/controls",
      "_model_module_version": "1.5.0",
      "_model_name": "ProgressStyleModel",
      "_view_count": null,
      "_view_module": "@jupyter-widgets/base",
      "_view_module_version": "1.2.0",
      "_view_name": "StyleView",
      "bar_color": null,
      "description_width": "initial"
     }
    }
   }
  }
 },
 "nbformat": 4,
 "nbformat_minor": 1
}
